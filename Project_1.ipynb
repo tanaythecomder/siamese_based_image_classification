{
 "cells": [
  {
   "cell_type": "code",
   "execution_count": null,
   "metadata": {},
   "outputs": [],
   "source": [
    "import tensorflow as tf\n",
    "from tensorflow import keras\n",
    "from tensorflow.keras import layers\n",
    "import matplotlib.pyplot as plt\n",
    "import numpy as np"
   ]
  },
  {
   "cell_type": "code",
   "execution_count": null,
   "metadata": {},
   "outputs": [],
   "source": [
    "def create_inception_module(input_tensor):\n",
    "    # Define the Inception-like module with 4 parallel convolution channels\n",
    "    conv1x1 = layers.Conv2D(64, (1, 1), activation='relu')(input_tensor)\n",
    "    print(\"Success 1\")\n",
    "    conv3x3_reduce = layers.Conv2D(64, (1, 1), activation='relu')(input_tensor)\n",
    "    print(\"Success 2\")\n",
    "    conv3x3 = layers.Conv2D(128, (3, 3), activation='relu', padding='same')(conv3x3_reduce)\n",
    "    print(\"Success 3\")\n",
    "    conv5x5_reduce = layers.Conv2D(32, (1, 1), activation='relu')(input_tensor)\n",
    "    print(\"Success 4\")\n",
    "    conv5x5 = layers.Conv2D(64, (5, 5), activation='relu', padding='same')(conv5x5_reduce)\n",
    "    print(\"Success 5\")\n",
    "    maxpool = layers.MaxPooling2D((3, 3), strides=(1, 1), padding='same')(conv5x5)\n",
    "    print(\"Success 6\")\n",
    "    maxpool_proj = layers.Conv2D(32, (1, 1), activation='relu')(maxpool)\n",
    "    print(\"Success 7\")\n",
    "\n",
    "    # Concatenate the outputs of the parallel channels\n",
    "    inception_module = layers.concatenate([conv1x1, conv3x3, conv5x5, maxpool_proj], axis=-1)\n",
    "    print(\"Success 8\")\n",
    "\n",
    "    return inception_module\n"
   ]
  },
  {
   "cell_type": "code",
   "execution_count": null,
   "metadata": {},
   "outputs": [],
   "source": [
    "\n",
    "\n",
    "def create_siamese_branch(input_shape):\n",
    "    # First, add a few convolutional layers\n",
    "\n",
    "    '''layer1 = layers.Conv2D(32, (3, 3), activation='relu',padding = \"valid\")\n",
    "    layer2 = layers.Conv2D(64, (3, 3), activation='relu', padding = \"same\")(layer1)'''\n",
    "    input_layer = keras.Input(shape=input_shape)\n",
    "    x = layers.Conv2D(32, (3, 3), activation='relu',padding = \"valid\")(input_layer)\n",
    "    x = layers.Conv2D(32, (3, 3), activation='relu',padding = \"valid\")(x)\n",
    "    x = layers.Conv2D(64, (3, 3), activation='relu', padding = \"same\")(x)\n",
    "    x = layers.Conv2D(64, (3, 3), activation='relu', padding = \"same\")(x)\n",
    "    x = layers.Conv2D(80, (3, 3), activation='relu', padding = \"same\" )(x)\n",
    "    x = layers.Conv2D(80, (3, 3), activation='relu', padding = \"same\" )(x)\n",
    "    x = layers.MaxPooling2D((3, 3))(x)\n",
    "\n",
    "    # Add the Inception-like module here\n",
    "    # print(model.layers[-1].output.shape[1:])\n",
    "    x = create_inception_module(x)  # Pass the output of the last layer\n",
    "\n",
    "    # Continue with more convolutional layers\n",
    "    x = layers.Conv2D(128, (3, 3), activation='relu', padding = \"same\")(x)\n",
    "    x = layers.Flatten()(x)\n",
    "    x = layers.Dense(128, activation='relu')(x)\n",
    "    model = keras.Model(input_layer, [x])\n",
    "    return model"
   ]
  },
  {
   "cell_type": "code",
   "execution_count": null,
   "metadata": {},
   "outputs": [],
   "source": [
    "model = create_siamese_branch((112,112,3))\n",
    "\n",
    "model"
   ]
  },
  {
   "cell_type": "code",
   "execution_count": null,
   "metadata": {},
   "outputs": [],
   "source": [
    "model.summary()"
   ]
  },
  {
   "cell_type": "code",
   "execution_count": null,
   "metadata": {},
   "outputs": [],
   "source": [
    "input_shape = (224, 224, 3)\n",
    "# Define the Siamese network with two branches\n",
    "branch_a = create_siamese_branch(input_shape)\n",
    "branch_b = create_siamese_branch(input_shape)\n",
    "\n",
    "# Define the inputs for the Siamese branches\n",
    "input_a = keras.Input(shape=input_shape)\n",
    "input_b = keras.Input(shape=input_shape)\n",
    "\n",
    "# Get the outputs of the Siamese branches\n",
    "output_a = branch_a(input_a)\n",
    "output_b = branch_b(input_b)"
   ]
  },
  {
   "cell_type": "code",
   "execution_count": null,
   "metadata": {},
   "outputs": [],
   "source": [
    "def contrastive_loss(y_true, y_pred, margin=1):\n",
    "    square_pred = tf.square(y_pred)\n",
    "    margin_square = tf.square(tf.maximum(margin - y_pred, 0))\n",
    "    return tf.reduce_mean(y_true * square_pred + (1 - y_true) * margin_square)\n"
   ]
  },
  {
   "cell_type": "code",
   "execution_count": null,
   "metadata": {},
   "outputs": [],
   "source": [
    "L1_distance = tf.abs(output_a - output_b)\n"
   ]
  },
  {
   "cell_type": "code",
   "execution_count": null,
   "metadata": {},
   "outputs": [],
   "source": [
    "#Create the final output layer for your Siamese network, which predicts the similarity between the input pairs\n",
    "prediction = keras.layers.Dense(1, activation='sigmoid')(L1_distance)\n",
    "\n",
    "siamese_network = keras.Model(inputs=[input_a, input_b], outputs=prediction)\n"
   ]
  },
  {
   "cell_type": "code",
   "execution_count": null,
   "metadata": {},
   "outputs": [],
   "source": [
    "#Function to create pairs \n",
    "def create_pairs(data, labels):\n",
    "    pairs, y = [], []\n",
    "    num_classes = max(labels) + 1\n",
    "    class_indices = [np.where(labels == i)[0] for i in range(num_classes)]\n",
    "\n",
    "    for i in range(len(data)):\n",
    "        x1 = data[i]\n",
    "        label1 = labels[i]\n",
    "        x2 = data[np.random.choice(class_indices[label1])]\n",
    "        label2 = label1\n",
    "        pairs += [[x1, x2]]\n",
    "        y += [1]  # Similar pair\n",
    "\n",
    "        other_class = np.random.randint(0, num_classes)\n",
    "        x2 = data[np.random.choice(class_indices[other_class])]\n",
    "        label2 = other_class\n",
    "        pairs += [[x1, x2]]\n",
    "        y += [0]  # Dissimilar pair\n",
    "\n",
    "    return np.array(pairs), np.array(y)\n",
    "\n",
    "# Assuming you have a dataset and labels, you can create pairs like this\n",
    "pairs, y = create_pairs(your_data, your_labels)\n",
    "\n"
   ]
  },
  {
   "cell_type": "code",
   "execution_count": null,
   "metadata": {},
   "outputs": [],
   "source": [
    "#Train Siamese network with your data pairs and labels.\n",
    "\n",
    "siamese_network.fit([pairs[:, 0], pairs[:, 1]], y, epochs=100, batch_size=10)\n",
    "\n"
   ]
  }
 ],
 "metadata": {
  "language_info": {
   "name": "python"
  }
 },
 "nbformat": 4,
 "nbformat_minor": 2
}

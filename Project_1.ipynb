{
 "cells": [
  {
   "cell_type": "code",
   "execution_count": 53,
   "metadata": {},
   "outputs": [],
   "source": [
    "import tensorflow as tf\n",
    "from tensorflow import keras\n",
    "from tensorflow.keras import layers\n",
    "import matplotlib.pyplot as plt\n",
    "import numpy as np"
   ]
  },
  {
   "cell_type": "code",
   "execution_count": 54,
   "metadata": {},
   "outputs": [],
   "source": [
    "def create_inception_module(input_tensor):\n",
    "    # Define the Inception-like module with 4 parallel convolution channels\n",
    "    \n",
    "    conv1x1 = layers.Conv2D(64, (1, 1), activation='relu')(input_tensor)\n",
    "    print(\"Success 1\")\n",
    "    conv3x3_reduce = layers.Conv2D(64, (1, 1), activation='relu')(input_tensor)\n",
    "    print(\"Success 2\")\n",
    "    conv3x3 = layers.Conv2D(128, (3, 3), activation='relu', padding='same')(conv3x3_reduce)\n",
    "    print(\"Success 3\")\n",
    "    conv5x5_reduce = layers.Conv2D(32, (1, 1), activation='relu')(input_tensor)\n",
    "    print(\"Success 4\")\n",
    "    conv5x5 = layers.Conv2D(64, (5, 5), activation='relu', padding='same')(conv5x5_reduce)\n",
    "    print(\"Success 5\")\n",
    "    maxpool = layers.MaxPooling2D((3, 3), strides=(1, 1), padding='same')(conv5x5)\n",
    "    print(\"Success 6\")\n",
    "    maxpool_proj = layers.Conv2D(32, (1, 1), activation='relu')(maxpool)\n",
    "    print(\"Success 7\")\n",
    "\n",
    "    # Concatenate the outputs of the parallel channels\n",
    "    inception_module = layers.concatenate([conv1x1, conv3x3, conv5x5, maxpool_proj], axis=-1)\n",
    "    print(\"Success 8\")\n",
    "\n",
    "    return inception_module\n"
   ]
  },
  {
   "cell_type": "code",
   "execution_count": 55,
   "metadata": {},
   "outputs": [],
   "source": [
    "\n",
    "\n",
    "def create_siamese_branch(input_shape):\n",
    "    # First, add a few convolutional layers\n",
    "\n",
    "    '''layer1 = layers.Conv2D(32, (3, 3), activation='relu',padding = \"valid\")\n",
    "    layer2 = layers.Conv2D(64, (3, 3), activation='relu', padding = \"same\")(layer1)'''\n",
    "    input_layer = keras.Input(shape=input_shape)\n",
    "    x = layers.Conv2D(32, (3, 3), activation='relu',padding = \"valid\")(input_layer)\n",
    "    x = layers.Conv2D(32, (3, 3), activation='relu',padding = \"valid\")(x)\n",
    "    x = layers.Conv2D(64, (3, 3), activation='relu', padding = \"same\")(x)\n",
    "    x = layers.Conv2D(64, (3, 3), activation='relu', padding = \"same\")(x)\n",
    "    x = layers.Conv2D(80, (3, 3), activation='relu', padding = \"same\" )(x)\n",
    "    x = layers.Conv2D(80, (3, 3), activation='relu', padding = \"same\" )(x)\n",
    "    x = layers.MaxPooling2D((3, 3))(x)\n",
    "\n",
    "    # Add the Inception-like module here\n",
    "    # print(model.layers[-1].output.shape[1:])\n",
    "    x = create_inception_module(x)  # Pass the output of the last layer\n",
    "\n",
    "    # Continue with more convolutional layers\n",
    "    x = layers.Conv2D(128, (3, 3), activation='relu', padding = \"same\")(x)\n",
    "    x = layers.Flatten()(x)\n",
    "    x = layers.Dense(128, activation='relu')(x)\n",
    "    model = keras.Model(input_layer, [x])\n",
    "    return model"
   ]
  },
  {
   "cell_type": "code",
   "execution_count": 86,
   "metadata": {},
   "outputs": [
    {
     "name": "stdout",
     "output_type": "stream",
     "text": [
      "Success 1\n",
      "Success 2\n",
      "Success 3\n",
      "Success 4\n",
      "Success 5\n",
      "Success 6\n",
      "Success 7\n",
      "Success 8\n"
     ]
    },
    {
     "data": {
      "text/plain": [
       "<keras.engine.functional.Functional at 0x1a831a70ac0>"
      ]
     },
     "execution_count": 86,
     "metadata": {},
     "output_type": "execute_result"
    }
   ],
   "source": [
    "model = create_siamese_branch((105,105,1))\n",
    "\n",
    "model"
   ]
  },
  {
   "cell_type": "code",
   "execution_count": 57,
   "metadata": {},
   "outputs": [
    {
     "name": "stdout",
     "output_type": "stream",
     "text": [
      "Model: \"model\"\n",
      "__________________________________________________________________________________________________\n",
      " Layer (type)                   Output Shape         Param #     Connected to                     \n",
      "==================================================================================================\n",
      " input_1 (InputLayer)           [(None, 112, 112, 3  0           []                               \n",
      "                                )]                                                                \n",
      "                                                                                                  \n",
      " conv2d (Conv2D)                (None, 110, 110, 32  896         ['input_1[0][0]']                \n",
      "                                )                                                                 \n",
      "                                                                                                  \n",
      " conv2d_1 (Conv2D)              (None, 108, 108, 32  9248        ['conv2d[0][0]']                 \n",
      "                                )                                                                 \n",
      "                                                                                                  \n",
      " conv2d_2 (Conv2D)              (None, 108, 108, 64  18496       ['conv2d_1[0][0]']               \n",
      "                                )                                                                 \n",
      "                                                                                                  \n",
      " conv2d_3 (Conv2D)              (None, 108, 108, 64  36928       ['conv2d_2[0][0]']               \n",
      "                                )                                                                 \n",
      "                                                                                                  \n",
      " conv2d_4 (Conv2D)              (None, 108, 108, 80  46160       ['conv2d_3[0][0]']               \n",
      "                                )                                                                 \n",
      "                                                                                                  \n",
      " conv2d_5 (Conv2D)              (None, 108, 108, 80  57680       ['conv2d_4[0][0]']               \n",
      "                                )                                                                 \n",
      "                                                                                                  \n",
      " max_pooling2d (MaxPooling2D)   (None, 36, 36, 80)   0           ['conv2d_5[0][0]']               \n",
      "                                                                                                  \n",
      " conv2d_9 (Conv2D)              (None, 36, 36, 32)   2592        ['max_pooling2d[0][0]']          \n",
      "                                                                                                  \n",
      " conv2d_10 (Conv2D)             (None, 36, 36, 64)   51264       ['conv2d_9[0][0]']               \n",
      "                                                                                                  \n",
      " conv2d_7 (Conv2D)              (None, 36, 36, 64)   5184        ['max_pooling2d[0][0]']          \n",
      "                                                                                                  \n",
      " max_pooling2d_1 (MaxPooling2D)  (None, 36, 36, 64)  0           ['conv2d_10[0][0]']              \n",
      "                                                                                                  \n",
      " conv2d_6 (Conv2D)              (None, 36, 36, 64)   5184        ['max_pooling2d[0][0]']          \n",
      "                                                                                                  \n",
      " conv2d_8 (Conv2D)              (None, 36, 36, 128)  73856       ['conv2d_7[0][0]']               \n",
      "                                                                                                  \n",
      " conv2d_11 (Conv2D)             (None, 36, 36, 32)   2080        ['max_pooling2d_1[0][0]']        \n",
      "                                                                                                  \n",
      " concatenate (Concatenate)      (None, 36, 36, 288)  0           ['conv2d_6[0][0]',               \n",
      "                                                                  'conv2d_8[0][0]',               \n",
      "                                                                  'conv2d_10[0][0]',              \n",
      "                                                                  'conv2d_11[0][0]']              \n",
      "                                                                                                  \n",
      " conv2d_12 (Conv2D)             (None, 36, 36, 128)  331904      ['concatenate[0][0]']            \n",
      "                                                                                                  \n",
      " flatten (Flatten)              (None, 165888)       0           ['conv2d_12[0][0]']              \n",
      "                                                                                                  \n",
      " dense (Dense)                  (None, 128)          21233792    ['flatten[0][0]']                \n",
      "                                                                                                  \n",
      "==================================================================================================\n",
      "Total params: 21,875,264\n",
      "Trainable params: 21,875,264\n",
      "Non-trainable params: 0\n",
      "__________________________________________________________________________________________________\n"
     ]
    }
   ],
   "source": [
    "model.summary()"
   ]
  },
  {
   "cell_type": "code",
   "execution_count": 89,
   "metadata": {},
   "outputs": [
    {
     "name": "stdout",
     "output_type": "stream",
     "text": [
      "Success 1\n",
      "Success 2\n",
      "Success 3\n",
      "Success 4\n",
      "Success 5\n",
      "Success 6\n",
      "Success 7\n",
      "Success 8\n",
      "Success 1\n",
      "Success 2\n",
      "Success 3\n",
      "Success 4\n",
      "Success 5\n",
      "Success 6\n",
      "Success 7\n",
      "Success 8\n"
     ]
    }
   ],
   "source": [
    "input_shape = (105, 105, 1)\n",
    "# Define the Siamese network with two branches\n",
    "branch_a = create_siamese_branch(input_shape)\n",
    "branch_b = create_siamese_branch(input_shape)\n",
    "\n",
    "# Define the inputs for the Siamese branches\n",
    "input_a = keras.Input(shape=input_shape)\n",
    "input_b = keras.Input(shape=input_shape)\n",
    "\n",
    "# Get the outputs of the Siamese branches\n",
    "output_a = branch_a(input_a)\n",
    "output_b = branch_b(input_b)"
   ]
  },
  {
   "cell_type": "code",
   "execution_count": 110,
   "metadata": {},
   "outputs": [],
   "source": [
    "def contrastive_loss(y_true, y_pred, margin=1):\n",
    "    y_true = tf.cast(y_true, dtype=tf.float32)\n",
    "\n",
    "    square_pred = tf.square(y_pred)\n",
    "    margin_square = tf.square(tf.maximum(margin - y_pred, 0))\n",
    "    return tf.reduce_mean(y_true * square_pred + (1 - y_true) * margin_square)\n"
   ]
  },
  {
   "cell_type": "code",
   "execution_count": 100,
   "metadata": {},
   "outputs": [],
   "source": [
    "L1_distance = tf.abs(output_a - output_b)\n"
   ]
  },
  {
   "cell_type": "code",
   "execution_count": 101,
   "metadata": {},
   "outputs": [],
   "source": [
    "#Create the final output layer for your Siamese network, which predicts the similarity between the input pairs\n",
    "prediction = keras.layers.Dense(1, activation='sigmoid')(L1_distance)\n",
    "\n",
    "siamese_network = keras.Model(inputs=[input_a, input_b], outputs=prediction)\n"
   ]
  },
  {
   "cell_type": "code",
   "execution_count": null,
   "metadata": {},
   "outputs": [],
   "source": [
    "# #Function to create pairs \n",
    "# def create_pairs(data, labels):\n",
    "#     pairs, y = [], []\n",
    "#     num_classes = max(labels) + 1\n",
    "#     class_indices = [np.where(labels == i)[0] for i in range(num_classes)]\n",
    "\n",
    "#     for i in range(len(data)):\n",
    "#         x1 = data[i]\n",
    "#         label1 = labels[i]\n",
    "#         x2 = data[np.random.choice(class_indices[label1])]\n",
    "#         label2 = label1\n",
    "#         pairs += [[x1, x2]]\n",
    "#         y += [1]  # Similar pair\n",
    "\n",
    "#         other_class = np.random.randint(0, num_classes)\n",
    "#         x2 = data[np.random.choice(class_indices[other_class])]\n",
    "#         label2 = other_class\n",
    "#         pairs += [[x1, x2]]\n",
    "#         y += [0]  # Dissimilar pair\n",
    "\n",
    "#     return np.array(pairs), np.array(y)\n",
    "\n",
    "# # Assuming you have a dataset and labels, you can create pairs like this\n",
    "# pairs, y = create_pairs(your_data, your_labels)\n",
    "\n"
   ]
  },
  {
   "cell_type": "code",
   "execution_count": 63,
   "metadata": {},
   "outputs": [
    {
     "name": "stdout",
     "output_type": "stream",
     "text": [
      "c:\\Users\\Tanay Srivastava\\Desktop\\Project_1_DL\n",
      "['c:\\\\Users\\\\Tanay Srivastava\\\\Desktop\\\\Project_1_DL\\\\Greek']\n",
      "['c:\\\\Users\\\\Tanay Srivastava\\\\Desktop\\\\Project_1_DL\\\\Greek\\\\character01', 'c:\\\\Users\\\\Tanay Srivastava\\\\Desktop\\\\Project_1_DL\\\\Greek\\\\character02', 'c:\\\\Users\\\\Tanay Srivastava\\\\Desktop\\\\Project_1_DL\\\\Greek\\\\character03', 'c:\\\\Users\\\\Tanay Srivastava\\\\Desktop\\\\Project_1_DL\\\\Greek\\\\character04', 'c:\\\\Users\\\\Tanay Srivastava\\\\Desktop\\\\Project_1_DL\\\\Greek\\\\character05', 'c:\\\\Users\\\\Tanay Srivastava\\\\Desktop\\\\Project_1_DL\\\\Greek\\\\character06', 'c:\\\\Users\\\\Tanay Srivastava\\\\Desktop\\\\Project_1_DL\\\\Greek\\\\character07', 'c:\\\\Users\\\\Tanay Srivastava\\\\Desktop\\\\Project_1_DL\\\\Greek\\\\character08', 'c:\\\\Users\\\\Tanay Srivastava\\\\Desktop\\\\Project_1_DL\\\\Greek\\\\character09', 'c:\\\\Users\\\\Tanay Srivastava\\\\Desktop\\\\Project_1_DL\\\\Greek\\\\character10', 'c:\\\\Users\\\\Tanay Srivastava\\\\Desktop\\\\Project_1_DL\\\\Greek\\\\character11', 'c:\\\\Users\\\\Tanay Srivastava\\\\Desktop\\\\Project_1_DL\\\\Greek\\\\character12', 'c:\\\\Users\\\\Tanay Srivastava\\\\Desktop\\\\Project_1_DL\\\\Greek\\\\character13', 'c:\\\\Users\\\\Tanay Srivastava\\\\Desktop\\\\Project_1_DL\\\\Greek\\\\character14', 'c:\\\\Users\\\\Tanay Srivastava\\\\Desktop\\\\Project_1_DL\\\\Greek\\\\character15', 'c:\\\\Users\\\\Tanay Srivastava\\\\Desktop\\\\Project_1_DL\\\\Greek\\\\character16', 'c:\\\\Users\\\\Tanay Srivastava\\\\Desktop\\\\Project_1_DL\\\\Greek\\\\character17', 'c:\\\\Users\\\\Tanay Srivastava\\\\Desktop\\\\Project_1_DL\\\\Greek\\\\character18', 'c:\\\\Users\\\\Tanay Srivastava\\\\Desktop\\\\Project_1_DL\\\\Greek\\\\character19', 'c:\\\\Users\\\\Tanay Srivastava\\\\Desktop\\\\Project_1_DL\\\\Greek\\\\character20', 'c:\\\\Users\\\\Tanay Srivastava\\\\Desktop\\\\Project_1_DL\\\\Greek\\\\character21', 'c:\\\\Users\\\\Tanay Srivastava\\\\Desktop\\\\Project_1_DL\\\\Greek\\\\character22', 'c:\\\\Users\\\\Tanay Srivastava\\\\Desktop\\\\Project_1_DL\\\\Greek\\\\character23', 'c:\\\\Users\\\\Tanay Srivastava\\\\Desktop\\\\Project_1_DL\\\\Greek\\\\character24']\n"
     ]
    }
   ],
   "source": [
    "import os\n",
    "path = os.getcwd()\n",
    "print(path)\n",
    "\n",
    "directory_path = path  # Replace with the path to your directory\n",
    "# C:\\Users\\Tanay Srivastava\\Downloads\\archive (8).zip\\images_background\\Greek\n",
    "# Get a list of all files in the directory\n",
    "file_paths = [os.path.join(directory_path, \"Greek\")]\n",
    "# file_paths = [os.path.join(directory_path, filename) for filename in os.listdir(directory_path) if os.path.isfile(os.path.join(directory_path, filename))]\n",
    "all_files = []\n",
    "for i in file_paths:\n",
    "    for files in os.listdir(i):\n",
    "        all_files.append(os.path.join(i, files))\n",
    "# file_paths now contains the paths to all the files in the directory\n",
    "print(file_paths)\n",
    "print(all_files)\n",
    "all_images = []\n",
    "for i in all_files:\n",
    "    for image in os.listdir(i):\n",
    "      all_images.append(os.path.join(i, image))\n",
    "# print(all_images)\n",
    "# all_files = []  \n",
    "\n"
   ]
  },
  {
   "cell_type": "code",
   "execution_count": 64,
   "metadata": {},
   "outputs": [],
   "source": [
    "def getSame(path_a, path_b):\n",
    "    file_path_a = path_a\n",
    "    file_path_b = path_b\n",
    "    image_a = os.path.basename(file_path_a)\n",
    "    image_b = os.path.basename(file_path_b)\n",
    "\n",
    "    if image_a[0:4]==image_b[0:4]:\n",
    "        return True\n",
    "    else:\n",
    "        return False\n",
    "\n"
   ]
  },
  {
   "cell_type": "code",
   "execution_count": 65,
   "metadata": {},
   "outputs": [
    {
     "name": "stdout",
     "output_type": "stream",
     "text": [
      "['c:\\\\Users\\\\Tanay Srivastava\\\\Desktop\\\\Project_1_DL\\\\Greek\\\\character21\\\\0414_19.png', 'c:\\\\Users\\\\Tanay Srivastava\\\\Desktop\\\\Project_1_DL\\\\Greek\\\\character20\\\\0413_02.png', 0]\n"
     ]
    }
   ],
   "source": [
    "# make pairs with vectors\n",
    "import random\n",
    "random.shuffle(all_images)\n",
    "vector_list = []\n",
    "n = len(all_images)\n",
    "final_dataset = []\n",
    "i = 0;\n",
    "while(n):\n",
    "  n=n-2;\n",
    "  selected_paths =all_images[i:i+2]\n",
    "  i = i+2;\n",
    "  #check whether the 2 files are from same class or not\n",
    "\n",
    "  a = getSame(selected_paths[0],selected_paths[1])\n",
    "  if(a):\n",
    "    selected_paths.append(1)\n",
    "  else:\n",
    "    selected_paths.append(0)\n",
    "\n",
    "  final_dataset.append(selected_paths)\n",
    "\n",
    "print(final_dataset[0])"
   ]
  },
  {
   "cell_type": "code",
   "execution_count": 93,
   "metadata": {},
   "outputs": [
    {
     "name": "stdout",
     "output_type": "stream",
     "text": [
      "Model: \"model_7\"\n",
      "__________________________________________________________________________________________________\n",
      " Layer (type)                   Output Shape         Param #     Connected to                     \n",
      "==================================================================================================\n",
      " input_9 (InputLayer)           [(None, 105, 105, 1  0           []                               \n",
      "                                )]                                                                \n",
      "                                                                                                  \n",
      " input_10 (InputLayer)          [(None, 105, 105, 1  0           []                               \n",
      "                                )]                                                                \n",
      "                                                                                                  \n",
      " model_5 (Functional)           (None, 128)          18483200    ['input_9[0][0]']                \n",
      "                                                                                                  \n",
      " model_6 (Functional)           (None, 128)          18483200    ['input_10[0][0]']               \n",
      "                                                                                                  \n",
      " tf.math.subtract_1 (TFOpLambda  (None, 128)         0           ['model_5[0][0]',                \n",
      " )                                                                'model_6[0][0]']                \n",
      "                                                                                                  \n",
      " tf.math.abs_1 (TFOpLambda)     (None, 128)          0           ['tf.math.subtract_1[0][0]']     \n",
      "                                                                                                  \n",
      " dense_7 (Dense)                (None, 1)            129         ['tf.math.abs_1[0][0]']          \n",
      "                                                                                                  \n",
      "==================================================================================================\n",
      "Total params: 36,966,529\n",
      "Trainable params: 36,966,529\n",
      "Non-trainable params: 0\n",
      "__________________________________________________________________________________________________\n"
     ]
    }
   ],
   "source": [
    "siamese_network.summary()"
   ]
  },
  {
   "cell_type": "code",
   "execution_count": 111,
   "metadata": {},
   "outputs": [],
   "source": [
    "siamese_network.compile(loss=contrastive_loss, optimizer=\"adam\", metrics='accuracy')"
   ]
  },
  {
   "cell_type": "code",
   "execution_count": 103,
   "metadata": {},
   "outputs": [
    {
     "data": {
      "text/plain": [
       "<matplotlib.image.AxesImage at 0x1a832ee2530>"
      ]
     },
     "execution_count": 103,
     "metadata": {},
     "output_type": "execute_result"
    },
    {
     "data": {
      "image/png": "[encoded data removed]",
      "text/plain": [
       "<Figure size 640x480 with 1 Axes>"
      ]
     },
     "metadata": {},
     "output_type": "display_data"
    }
   ],
   "source": [
    "a = plt.imread(final_dataset[0][0])\n",
    "plt.imshow(a)"
   ]
  },
  {
   "cell_type": "code",
   "execution_count": 112,
   "metadata": {},
   "outputs": [
    {
     "name": "stdout",
     "output_type": "stream",
     "text": [
      "1/1 [==============================] - 20s 20s/step - loss: 0.8476 - accuracy: 0.9375\n",
      "1/1 [==============================] - 11s 11s/step - loss: 0.3469 - accuracy: 0.9688\n",
      "1/1 [==============================] - 11s 11s/step - loss: 0.2486 - accuracy: 0.0625\n",
      "1/1 [==============================] - 10s 10s/step - loss: 0.2472 - accuracy: 0.0000e+00\n",
      "1/1 [==============================] - 10s 10s/step - loss: 0.2437 - accuracy: 0.1562\n",
      "1/1 [==============================] - 10s 10s/step - loss: 0.2277 - accuracy: 0.0000e+00\n",
      "1/1 [==============================] - 11s 11s/step - loss: 0.2107 - accuracy: 0.0625\n",
      "1/1 [==============================] - 10s 10s/step - loss: 0.1691 - accuracy: 0.0000e+00\n"
     ]
    }
   ],
   "source": [
    "# Assuming you have a list of pairs (image1, image2) and corresponding target values in final_dataset\n",
    "batch_size = 32  # Choose an appropriate batch size\n",
    "\n",
    "for i in range(0, len(final_dataset), batch_size):\n",
    "    batch = final_dataset[i:i + batch_size]\n",
    "\n",
    "    input_batch = []\n",
    "    target_batch = []\n",
    "\n",
    "    for data in batch:\n",
    "        s1, s2, value = data\n",
    "\n",
    "        image1 = plt.imread(s1) / 255.0\n",
    "        image2 = plt.imread(s2) / 255.0\n",
    "\n",
    "        image1 = np.expand_dims(image1, -1)\n",
    "        image2 = np.expand_dims(image2, -1)\n",
    "\n",
    "        input_batch.append([image1, image2])\n",
    "        target_batch.append(value)\n",
    "\n",
    "    input_batch = [np.array(input_batch) for input_batch in zip(*input_batch)]\n",
    "    target_batch = np.array(target_batch)\n",
    "\n",
    "    siamese_network.fit(input_batch, target_batch, epochs=1)\n"
   ]
  },
  {
   "cell_type": "code",
   "execution_count": 113,
   "metadata": {},
   "outputs": [],
   "source": [
    "#Train Siamese network with your data pairs and labels.\n",
    "\n",
    "# siamese_network.fit([pairs[:, 0], pairs[:, 1]], y, epochs=100, batch_size=10)\n",
    "\n"
   ]
  },
  {
   "cell_type": "code",
   "execution_count": null,
   "metadata": {},
   "outputs": [],
   "source": [
    "model"
   ]
  }
 ],
 "metadata": {
  "kernelspec": {
   "display_name": "Python 3",
   "language": "python",
   "name": "python3"
  },
  "language_info": {
   "codemirror_mode": {
    "name": "ipython",
    "version": 3
   },
   "file_extension": ".py",
   "mimetype": "text/x-python",
   "name": "python",
   "nbconvert_exporter": "python",
   "pygments_lexer": "ipython3",
   "version": "3.10.4"
  }
 },
 "nbformat": 4,
 "nbformat_minor": 2
}

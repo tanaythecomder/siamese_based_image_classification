{
 "cells": [
  {
   "cell_type": "code",
   "execution_count": null,
   "metadata": {},
   "outputs": [],
   "source": [
    "import tensorflow as tf\n",
    "from tensorflow import keras\n",
    "from tensorflow.keras import layers\n",
    "import matplotlib.pyplot as plt\n",
    "import numpy as np"
   ]
  },
  {
   "cell_type": "code",
   "execution_count": null,
   "metadata": {},
   "outputs": [],
   "source": [
    "def create_inception_module(input_tensor):\n",
    "    # Define the Inception-like module with 4 parallel convolution channels\n",
    "    conv1x1 = layers.Conv2D(64, (1, 1), activation='relu')(input_tensor)\n",
    "    print(\"Success 1\")\n",
    "    conv3x3_reduce = layers.Conv2D(64, (1, 1), activation='relu')(input_tensor)\n",
    "    print(\"Success 2\")\n",
    "    conv3x3 = layers.Conv2D(128, (3, 3), activation='relu', padding='same')(conv3x3_reduce)\n",
    "    print(\"Success 3\")\n",
    "    conv5x5_reduce = layers.Conv2D(32, (1, 1), activation='relu')(input_tensor)\n",
    "    print(\"Success 4\")\n",
    "    conv5x5 = layers.Conv2D(64, (5, 5), activation='relu', padding='same')(conv5x5_reduce)\n",
    "    print(\"Success 5\")\n",
    "    maxpool = layers.MaxPooling2D((3, 3), strides=(1, 1), padding='same')(conv5x5)\n",
    "    print(\"Success 6\")\n",
    "    maxpool_proj = layers.Conv2D(32, (1, 1), activation='relu')(maxpool)\n",
    "    print(\"Success 7\")\n",
    "\n",
    "    # Concatenate the outputs of the parallel channels\n",
    "    inception_module = layers.concatenate([conv1x1, conv3x3, conv5x5, maxpool_proj], axis=-1)\n",
    "    print(\"Success 8\")\n",
    "\n",
    "    return inception_module\n"
   ]
  },
  {
   "cell_type": "code",
   "execution_count": null,
   "metadata": {},
   "outputs": [],
   "source": [
    "\n",
    "\n",
    "def create_siamese_branch(input_shape):\n",
    "    # First, add a few convolutional layers\n",
    "\n",
    "    '''layer1 = layers.Conv2D(32, (3, 3), activation='relu',padding = \"valid\")\n",
    "    layer2 = layers.Conv2D(64, (3, 3), activation='relu', padding = \"same\")(layer1)'''\n",
    "    input_layer = keras.Input(shape=input_shape)\n",
    "    x = layers.Conv2D(32, (3, 3), activation='relu',padding = \"valid\")(input_layer)\n",
    "    x = layers.Conv2D(32, (3, 3), activation='relu',padding = \"valid\")(x)\n",
    "    x = layers.Conv2D(64, (3, 3), activation='relu', padding = \"same\")(x)\n",
    "    x = layers.Conv2D(64, (3, 3), activation='relu', padding = \"same\")(x)\n",
    "    x = layers.Conv2D(80, (3, 3), activation='relu', padding = \"same\" )(x)\n",
    "    x = layers.Conv2D(80, (3, 3), activation='relu', padding = \"same\" )(x)\n",
    "    x = layers.MaxPooling2D((3, 3))(x)\n",
    "\n",
    "    # Add the Inception-like module here\n",
    "    # print(model.layers[-1].output.shape[1:])\n",
    "    x = create_inception_module(x)  # Pass the output of the last layer\n",
    "\n",
    "    # Continue with more convolutional layers\n",
    "    x = layers.Conv2D(128, (3, 3), activation='relu', padding = \"same\")(x)\n",
    "    x = layers.Flatten()(x)\n",
    "    x = layers.Dense(128, activation='relu')(x)\n",
    "    model = keras.Model(input_layer, [x])\n",
    "    return model"
   ]
  },
  {
   "cell_type": "code",
   "execution_count": null,
   "metadata": {},
   "outputs": [],
   "source": [
    "model = create_siamese_branch((112,112,3))\n",
    "\n",
    "model"
   ]
  },
  {
   "cell_type": "code",
   "execution_count": null,
   "metadata": {},
   "outputs": [],
   "source": [
    "model.summary()"
   ]
  },
  {
   "cell_type": "code",
   "execution_count": null,
   "metadata": {},
   "outputs": [],
   "source": [
    "input_shape = (224, 224, 3)\n",
    "# Define the Siamese network with two branches\n",
    "branch_a = create_siamese_branch(input_shape)\n",
    "branch_b = create_siamese_branch(input_shape)\n",
    "\n",
    "# Define the inputs for the Siamese branches\n",
    "input_a = keras.Input(shape=input_shape)\n",
    "input_b = keras.Input(shape=input_shape)\n",
    "\n",
    "# Get the outputs of the Siamese branches\n",
    "output_a = branch_a(input_a)\n",
    "output_b = branch_b(input_b)"
   ]
  },
  {
   "cell_type": "code",
   "execution_count": null,
   "metadata": {},
   "outputs": [],
   "source": [
    "def contrastive_loss(y_true, y_pred, margin=1):\n",
    "    square_pred = tf.square(y_pred)\n",
    "    margin_square = tf.square(tf.maximum(margin - y_pred, 0))\n",
    "    return tf.reduce_mean(y_true * square_pred + (1 - y_true) * margin_square)\n"
   ]
  },
  {
   "cell_type": "code",
   "execution_count": null,
   "metadata": {},
   "outputs": [],
   "source": [
    "L1_distance = tf.abs(output_a - output_b)\n"
   ]
  },
  {
   "cell_type": "code",
   "execution_count": null,
   "metadata": {},
   "outputs": [],
   "source": [
    "#Create the final output layer for your Siamese network, which predicts the similarity between the input pairs\n",
    "prediction = keras.layers.Dense(1, activation='sigmoid')(L1_distance)\n",
    "\n",
    "siamese_network = keras.Model(inputs=[input_a, input_b], outputs=prediction)\n"
   ]
  },
  {
   "cell_type": "code",
   "execution_count": null,
   "metadata": {},
   "outputs": [],
   "source": [
    "#Function to create pairs \n",
    "def create_pairs(data, labels):\n",
    "    pairs, y = [], []\n",
    "    num_classes = max(labels) + 1\n",
    "    class_indices = [np.where(labels == i)[0] for i in range(num_classes)]\n",
    "\n",
    "    for i in range(len(data)):\n",
    "        x1 = data[i]\n",
    "        label1 = labels[i]\n",
    "        x2 = data[np.random.choice(class_indices[label1])]\n",
    "        label2 = label1\n",
    "        pairs += [[x1, x2]]\n",
    "        y += [1]  # Similar pair\n",
    "\n",
    "        other_class = np.random.randint(0, num_classes)\n",
    "        x2 = data[np.random.choice(class_indices[other_class])]\n",
    "        label2 = other_class\n",
    "        pairs += [[x1, x2]]\n",
    "        y += [0]  # Dissimilar pair\n",
    "\n",
    "    return np.array(pairs), np.array(y)\n",
    "\n",
    "# Assuming you have a dataset and labels, you can create pairs like this\n",
    "pairs, y = create_pairs(your_data, your_labels)\n",
    "\n"
   ]
  },
  {
   "cell_type": "code",
   "execution_count": 32,
   "metadata": {},
   "outputs": [
    {
     "name": "stdout",
     "output_type": "stream",
     "text": [
      "c:\\Users\\Tanay Srivastava\\Desktop\\Project_1_DL\n",
      "['c:\\\\Users\\\\Tanay Srivastava\\\\Desktop\\\\Project_1_DL\\\\Greek']\n",
      "['c:\\\\Users\\\\Tanay Srivastava\\\\Desktop\\\\Project_1_DL\\\\Greek\\\\character01', 'c:\\\\Users\\\\Tanay Srivastava\\\\Desktop\\\\Project_1_DL\\\\Greek\\\\character02', 'c:\\\\Users\\\\Tanay Srivastava\\\\Desktop\\\\Project_1_DL\\\\Greek\\\\character03', 'c:\\\\Users\\\\Tanay Srivastava\\\\Desktop\\\\Project_1_DL\\\\Greek\\\\character04', 'c:\\\\Users\\\\Tanay Srivastava\\\\Desktop\\\\Project_1_DL\\\\Greek\\\\character05', 'c:\\\\Users\\\\Tanay Srivastava\\\\Desktop\\\\Project_1_DL\\\\Greek\\\\character06', 'c:\\\\Users\\\\Tanay Srivastava\\\\Desktop\\\\Project_1_DL\\\\Greek\\\\character07', 'c:\\\\Users\\\\Tanay Srivastava\\\\Desktop\\\\Project_1_DL\\\\Greek\\\\character08', 'c:\\\\Users\\\\Tanay Srivastava\\\\Desktop\\\\Project_1_DL\\\\Greek\\\\character09', 'c:\\\\Users\\\\Tanay Srivastava\\\\Desktop\\\\Project_1_DL\\\\Greek\\\\character10', 'c:\\\\Users\\\\Tanay Srivastava\\\\Desktop\\\\Project_1_DL\\\\Greek\\\\character11', 'c:\\\\Users\\\\Tanay Srivastava\\\\Desktop\\\\Project_1_DL\\\\Greek\\\\character12', 'c:\\\\Users\\\\Tanay Srivastava\\\\Desktop\\\\Project_1_DL\\\\Greek\\\\character13', 'c:\\\\Users\\\\Tanay Srivastava\\\\Desktop\\\\Project_1_DL\\\\Greek\\\\character14', 'c:\\\\Users\\\\Tanay Srivastava\\\\Desktop\\\\Project_1_DL\\\\Greek\\\\character15', 'c:\\\\Users\\\\Tanay Srivastava\\\\Desktop\\\\Project_1_DL\\\\Greek\\\\character16', 'c:\\\\Users\\\\Tanay Srivastava\\\\Desktop\\\\Project_1_DL\\\\Greek\\\\character17', 'c:\\\\Users\\\\Tanay Srivastava\\\\Desktop\\\\Project_1_DL\\\\Greek\\\\character18', 'c:\\\\Users\\\\Tanay Srivastava\\\\Desktop\\\\Project_1_DL\\\\Greek\\\\character19', 'c:\\\\Users\\\\Tanay Srivastava\\\\Desktop\\\\Project_1_DL\\\\Greek\\\\character20', 'c:\\\\Users\\\\Tanay Srivastava\\\\Desktop\\\\Project_1_DL\\\\Greek\\\\character21', 'c:\\\\Users\\\\Tanay Srivastava\\\\Desktop\\\\Project_1_DL\\\\Greek\\\\character22', 'c:\\\\Users\\\\Tanay Srivastava\\\\Desktop\\\\Project_1_DL\\\\Greek\\\\character23', 'c:\\\\Users\\\\Tanay Srivastava\\\\Desktop\\\\Project_1_DL\\\\Greek\\\\character24']\n",
      "['c:\\\\Users\\\\Tanay Srivastava\\\\Desktop\\\\Project_1_DL\\\\Greek\\\\character01\\\\0394_01.png', 'c:\\\\Users\\\\Tanay Srivastava\\\\Desktop\\\\Project_1_DL\\\\Greek\\\\character01\\\\0394_02.png', 'c:\\\\Users\\\\Tanay Srivastava\\\\Desktop\\\\Project_1_DL\\\\Greek\\\\character01\\\\0394_03.png', 'c:\\\\Users\\\\Tanay Srivastava\\\\Desktop\\\\Project_1_DL\\\\Greek\\\\character01\\\\0394_04.png', 'c:\\\\Users\\\\Tanay Srivastava\\\\Desktop\\\\Project_1_DL\\\\Greek\\\\character01\\\\0394_05.png', 'c:\\\\Users\\\\Tanay Srivastava\\\\Desktop\\\\Project_1_DL\\\\Greek\\\\character01\\\\0394_06.png', 'c:\\\\Users\\\\Tanay Srivastava\\\\Desktop\\\\Project_1_DL\\\\Greek\\\\character01\\\\0394_07.png', 'c:\\\\Users\\\\Tanay Srivastava\\\\Desktop\\\\Project_1_DL\\\\Greek\\\\character01\\\\0394_08.png', 'c:\\\\Users\\\\Tanay Srivastava\\\\Desktop\\\\Project_1_DL\\\\Greek\\\\character01\\\\0394_09.png', 'c:\\\\Users\\\\Tanay Srivastava\\\\Desktop\\\\Project_1_DL\\\\Greek\\\\character01\\\\0394_10.png', 'c:\\\\Users\\\\Tanay Srivastava\\\\Desktop\\\\Project_1_DL\\\\Greek\\\\character01\\\\0394_11.png', 'c:\\\\Users\\\\Tanay Srivastava\\\\Desktop\\\\Project_1_DL\\\\Greek\\\\character01\\\\0394_12.png', 'c:\\\\Users\\\\Tanay Srivastava\\\\Desktop\\\\Project_1_DL\\\\Greek\\\\character01\\\\0394_13.png', 'c:\\\\Users\\\\Tanay Srivastava\\\\Desktop\\\\Project_1_DL\\\\Greek\\\\character01\\\\0394_14.png', 'c:\\\\Users\\\\Tanay Srivastava\\\\Desktop\\\\Project_1_DL\\\\Greek\\\\character01\\\\0394_15.png', 'c:\\\\Users\\\\Tanay Srivastava\\\\Desktop\\\\Project_1_DL\\\\Greek\\\\character01\\\\0394_16.png', 'c:\\\\Users\\\\Tanay Srivastava\\\\Desktop\\\\Project_1_DL\\\\Greek\\\\character01\\\\0394_17.png', 'c:\\\\Users\\\\Tanay Srivastava\\\\Desktop\\\\Project_1_DL\\\\Greek\\\\character01\\\\0394_18.png', 'c:\\\\Users\\\\Tanay Srivastava\\\\Desktop\\\\Project_1_DL\\\\Greek\\\\character01\\\\0394_19.png', 'c:\\\\Users\\\\Tanay Srivastava\\\\Desktop\\\\Project_1_DL\\\\Greek\\\\character01\\\\0394_20.png', 'c:\\\\Users\\\\Tanay Srivastava\\\\Desktop\\\\Project_1_DL\\\\Greek\\\\character02\\\\0395_01.png', 'c:\\\\Users\\\\Tanay Srivastava\\\\Desktop\\\\Project_1_DL\\\\Greek\\\\character02\\\\0395_02.png', 'c:\\\\Users\\\\Tanay Srivastava\\\\Desktop\\\\Project_1_DL\\\\Greek\\\\character02\\\\0395_03.png', 'c:\\\\Users\\\\Tanay Srivastava\\\\Desktop\\\\Project_1_DL\\\\Greek\\\\character02\\\\0395_04.png', 'c:\\\\Users\\\\Tanay Srivastava\\\\Desktop\\\\Project_1_DL\\\\Greek\\\\character02\\\\0395_05.png', 'c:\\\\Users\\\\Tanay Srivastava\\\\Desktop\\\\Project_1_DL\\\\Greek\\\\character02\\\\0395_06.png', 'c:\\\\Users\\\\Tanay Srivastava\\\\Desktop\\\\Project_1_DL\\\\Greek\\\\character02\\\\0395_07.png', 'c:\\\\Users\\\\Tanay Srivastava\\\\Desktop\\\\Project_1_DL\\\\Greek\\\\character02\\\\0395_08.png', 'c:\\\\Users\\\\Tanay Srivastava\\\\Desktop\\\\Project_1_DL\\\\Greek\\\\character02\\\\0395_09.png', 'c:\\\\Users\\\\Tanay Srivastava\\\\Desktop\\\\Project_1_DL\\\\Greek\\\\character02\\\\0395_10.png', 'c:\\\\Users\\\\Tanay Srivastava\\\\Desktop\\\\Project_1_DL\\\\Greek\\\\character02\\\\0395_11.png', 'c:\\\\Users\\\\Tanay Srivastava\\\\Desktop\\\\Project_1_DL\\\\Greek\\\\character02\\\\0395_12.png', 'c:\\\\Users\\\\Tanay Srivastava\\\\Desktop\\\\Project_1_DL\\\\Greek\\\\character02\\\\0395_13.png', 'c:\\\\Users\\\\Tanay Srivastava\\\\Desktop\\\\Project_1_DL\\\\Greek\\\\character02\\\\0395_14.png', 'c:\\\\Users\\\\Tanay Srivastava\\\\Desktop\\\\Project_1_DL\\\\Greek\\\\character02\\\\0395_15.png', 'c:\\\\Users\\\\Tanay Srivastava\\\\Desktop\\\\Project_1_DL\\\\Greek\\\\character02\\\\0395_16.png', 'c:\\\\Users\\\\Tanay Srivastava\\\\Desktop\\\\Project_1_DL\\\\Greek\\\\character02\\\\0395_17.png', 'c:\\\\Users\\\\Tanay Srivastava\\\\Desktop\\\\Project_1_DL\\\\Greek\\\\character02\\\\0395_18.png', 'c:\\\\Users\\\\Tanay Srivastava\\\\Desktop\\\\Project_1_DL\\\\Greek\\\\character02\\\\0395_19.png', 'c:\\\\Users\\\\Tanay Srivastava\\\\Desktop\\\\Project_1_DL\\\\Greek\\\\character02\\\\0395_20.png', 'c:\\\\Users\\\\Tanay Srivastava\\\\Desktop\\\\Project_1_DL\\\\Greek\\\\character03\\\\0396_01.png', 'c:\\\\Users\\\\Tanay Srivastava\\\\Desktop\\\\Project_1_DL\\\\Greek\\\\character03\\\\0396_02.png', 'c:\\\\Users\\\\Tanay Srivastava\\\\Desktop\\\\Project_1_DL\\\\Greek\\\\character03\\\\0396_03.png', 'c:\\\\Users\\\\Tanay Srivastava\\\\Desktop\\\\Project_1_DL\\\\Greek\\\\character03\\\\0396_04.png', 'c:\\\\Users\\\\Tanay Srivastava\\\\Desktop\\\\Project_1_DL\\\\Greek\\\\character03\\\\0396_05.png', 'c:\\\\Users\\\\Tanay Srivastava\\\\Desktop\\\\Project_1_DL\\\\Greek\\\\character03\\\\0396_06.png', 'c:\\\\Users\\\\Tanay Srivastava\\\\Desktop\\\\Project_1_DL\\\\Greek\\\\character03\\\\0396_07.png', 'c:\\\\Users\\\\Tanay Srivastava\\\\Desktop\\\\Project_1_DL\\\\Greek\\\\character03\\\\0396_08.png', 'c:\\\\Users\\\\Tanay Srivastava\\\\Desktop\\\\Project_1_DL\\\\Greek\\\\character03\\\\0396_09.png', 'c:\\\\Users\\\\Tanay Srivastava\\\\Desktop\\\\Project_1_DL\\\\Greek\\\\character03\\\\0396_10.png', 'c:\\\\Users\\\\Tanay Srivastava\\\\Desktop\\\\Project_1_DL\\\\Greek\\\\character03\\\\0396_11.png', 'c:\\\\Users\\\\Tanay Srivastava\\\\Desktop\\\\Project_1_DL\\\\Greek\\\\character03\\\\0396_12.png', 'c:\\\\Users\\\\Tanay Srivastava\\\\Desktop\\\\Project_1_DL\\\\Greek\\\\character03\\\\0396_13.png', 'c:\\\\Users\\\\Tanay Srivastava\\\\Desktop\\\\Project_1_DL\\\\Greek\\\\character03\\\\0396_14.png', 'c:\\\\Users\\\\Tanay Srivastava\\\\Desktop\\\\Project_1_DL\\\\Greek\\\\character03\\\\0396_15.png', 'c:\\\\Users\\\\Tanay Srivastava\\\\Desktop\\\\Project_1_DL\\\\Greek\\\\character03\\\\0396_16.png', 'c:\\\\Users\\\\Tanay Srivastava\\\\Desktop\\\\Project_1_DL\\\\Greek\\\\character03\\\\0396_17.png', 'c:\\\\Users\\\\Tanay Srivastava\\\\Desktop\\\\Project_1_DL\\\\Greek\\\\character03\\\\0396_18.png', 'c:\\\\Users\\\\Tanay Srivastava\\\\Desktop\\\\Project_1_DL\\\\Greek\\\\character03\\\\0396_19.png', 'c:\\\\Users\\\\Tanay Srivastava\\\\Desktop\\\\Project_1_DL\\\\Greek\\\\character03\\\\0396_20.png', 'c:\\\\Users\\\\Tanay Srivastava\\\\Desktop\\\\Project_1_DL\\\\Greek\\\\character04\\\\0397_01.png', 'c:\\\\Users\\\\Tanay Srivastava\\\\Desktop\\\\Project_1_DL\\\\Greek\\\\character04\\\\0397_02.png', 'c:\\\\Users\\\\Tanay Srivastava\\\\Desktop\\\\Project_1_DL\\\\Greek\\\\character04\\\\0397_03.png', 'c:\\\\Users\\\\Tanay Srivastava\\\\Desktop\\\\Project_1_DL\\\\Greek\\\\character04\\\\0397_04.png', 'c:\\\\Users\\\\Tanay Srivastava\\\\Desktop\\\\Project_1_DL\\\\Greek\\\\character04\\\\0397_05.png', 'c:\\\\Users\\\\Tanay Srivastava\\\\Desktop\\\\Project_1_DL\\\\Greek\\\\character04\\\\0397_06.png', 'c:\\\\Users\\\\Tanay Srivastava\\\\Desktop\\\\Project_1_DL\\\\Greek\\\\character04\\\\0397_07.png', 'c:\\\\Users\\\\Tanay Srivastava\\\\Desktop\\\\Project_1_DL\\\\Greek\\\\character04\\\\0397_08.png', 'c:\\\\Users\\\\Tanay Srivastava\\\\Desktop\\\\Project_1_DL\\\\Greek\\\\character04\\\\0397_09.png', 'c:\\\\Users\\\\Tanay Srivastava\\\\Desktop\\\\Project_1_DL\\\\Greek\\\\character04\\\\0397_10.png', 'c:\\\\Users\\\\Tanay Srivastava\\\\Desktop\\\\Project_1_DL\\\\Greek\\\\character04\\\\0397_11.png', 'c:\\\\Users\\\\Tanay Srivastava\\\\Desktop\\\\Project_1_DL\\\\Greek\\\\character04\\\\0397_12.png', 'c:\\\\Users\\\\Tanay Srivastava\\\\Desktop\\\\Project_1_DL\\\\Greek\\\\character04\\\\0397_13.png', 'c:\\\\Users\\\\Tanay Srivastava\\\\Desktop\\\\Project_1_DL\\\\Greek\\\\character04\\\\0397_14.png', 'c:\\\\Users\\\\Tanay Srivastava\\\\Desktop\\\\Project_1_DL\\\\Greek\\\\character04\\\\0397_15.png', 'c:\\\\Users\\\\Tanay Srivastava\\\\Desktop\\\\Project_1_DL\\\\Greek\\\\character04\\\\0397_16.png', 'c:\\\\Users\\\\Tanay Srivastava\\\\Desktop\\\\Project_1_DL\\\\Greek\\\\character04\\\\0397_17.png', 'c:\\\\Users\\\\Tanay Srivastava\\\\Desktop\\\\Project_1_DL\\\\Greek\\\\character04\\\\0397_18.png', 'c:\\\\Users\\\\Tanay Srivastava\\\\Desktop\\\\Project_1_DL\\\\Greek\\\\character04\\\\0397_19.png', 'c:\\\\Users\\\\Tanay Srivastava\\\\Desktop\\\\Project_1_DL\\\\Greek\\\\character04\\\\0397_20.png', 'c:\\\\Users\\\\Tanay Srivastava\\\\Desktop\\\\Project_1_DL\\\\Greek\\\\character05\\\\0398_01.png', 'c:\\\\Users\\\\Tanay Srivastava\\\\Desktop\\\\Project_1_DL\\\\Greek\\\\character05\\\\0398_02.png', 'c:\\\\Users\\\\Tanay Srivastava\\\\Desktop\\\\Project_1_DL\\\\Greek\\\\character05\\\\0398_03.png', 'c:\\\\Users\\\\Tanay Srivastava\\\\Desktop\\\\Project_1_DL\\\\Greek\\\\character05\\\\0398_04.png', 'c:\\\\Users\\\\Tanay Srivastava\\\\Desktop\\\\Project_1_DL\\\\Greek\\\\character05\\\\0398_05.png', 'c:\\\\Users\\\\Tanay Srivastava\\\\Desktop\\\\Project_1_DL\\\\Greek\\\\character05\\\\0398_06.png', 'c:\\\\Users\\\\Tanay Srivastava\\\\Desktop\\\\Project_1_DL\\\\Greek\\\\character05\\\\0398_07.png', 'c:\\\\Users\\\\Tanay Srivastava\\\\Desktop\\\\Project_1_DL\\\\Greek\\\\character05\\\\0398_08.png', 'c:\\\\Users\\\\Tanay Srivastava\\\\Desktop\\\\Project_1_DL\\\\Greek\\\\character05\\\\0398_09.png', 'c:\\\\Users\\\\Tanay Srivastava\\\\Desktop\\\\Project_1_DL\\\\Greek\\\\character05\\\\0398_10.png', 'c:\\\\Users\\\\Tanay Srivastava\\\\Desktop\\\\Project_1_DL\\\\Greek\\\\character05\\\\0398_11.png', 'c:\\\\Users\\\\Tanay Srivastava\\\\Desktop\\\\Project_1_DL\\\\Greek\\\\character05\\\\0398_12.png', 'c:\\\\Users\\\\Tanay Srivastava\\\\Desktop\\\\Project_1_DL\\\\Greek\\\\character05\\\\0398_13.png', 'c:\\\\Users\\\\Tanay Srivastava\\\\Desktop\\\\Project_1_DL\\\\Greek\\\\character05\\\\0398_14.png', 'c:\\\\Users\\\\Tanay Srivastava\\\\Desktop\\\\Project_1_DL\\\\Greek\\\\character05\\\\0398_15.png', 'c:\\\\Users\\\\Tanay Srivastava\\\\Desktop\\\\Project_1_DL\\\\Greek\\\\character05\\\\0398_16.png', 'c:\\\\Users\\\\Tanay Srivastava\\\\Desktop\\\\Project_1_DL\\\\Greek\\\\character05\\\\0398_17.png', 'c:\\\\Users\\\\Tanay Srivastava\\\\Desktop\\\\Project_1_DL\\\\Greek\\\\character05\\\\0398_18.png', 'c:\\\\Users\\\\Tanay Srivastava\\\\Desktop\\\\Project_1_DL\\\\Greek\\\\character05\\\\0398_19.png', 'c:\\\\Users\\\\Tanay Srivastava\\\\Desktop\\\\Project_1_DL\\\\Greek\\\\character05\\\\0398_20.png', 'c:\\\\Users\\\\Tanay Srivastava\\\\Desktop\\\\Project_1_DL\\\\Greek\\\\character06\\\\0399_01.png', 'c:\\\\Users\\\\Tanay Srivastava\\\\Desktop\\\\Project_1_DL\\\\Greek\\\\character06\\\\0399_02.png', 'c:\\\\Users\\\\Tanay Srivastava\\\\Desktop\\\\Project_1_DL\\\\Greek\\\\character06\\\\0399_03.png', 'c:\\\\Users\\\\Tanay Srivastava\\\\Desktop\\\\Project_1_DL\\\\Greek\\\\character06\\\\0399_04.png', 'c:\\\\Users\\\\Tanay Srivastava\\\\Desktop\\\\Project_1_DL\\\\Greek\\\\character06\\\\0399_05.png', 'c:\\\\Users\\\\Tanay Srivastava\\\\Desktop\\\\Project_1_DL\\\\Greek\\\\character06\\\\0399_06.png', 'c:\\\\Users\\\\Tanay Srivastava\\\\Desktop\\\\Project_1_DL\\\\Greek\\\\character06\\\\0399_07.png', 'c:\\\\Users\\\\Tanay Srivastava\\\\Desktop\\\\Project_1_DL\\\\Greek\\\\character06\\\\0399_08.png', 'c:\\\\Users\\\\Tanay Srivastava\\\\Desktop\\\\Project_1_DL\\\\Greek\\\\character06\\\\0399_09.png', 'c:\\\\Users\\\\Tanay Srivastava\\\\Desktop\\\\Project_1_DL\\\\Greek\\\\character06\\\\0399_10.png', 'c:\\\\Users\\\\Tanay Srivastava\\\\Desktop\\\\Project_1_DL\\\\Greek\\\\character06\\\\0399_11.png', 'c:\\\\Users\\\\Tanay Srivastava\\\\Desktop\\\\Project_1_DL\\\\Greek\\\\character06\\\\0399_12.png', 'c:\\\\Users\\\\Tanay Srivastava\\\\Desktop\\\\Project_1_DL\\\\Greek\\\\character06\\\\0399_13.png', 'c:\\\\Users\\\\Tanay Srivastava\\\\Desktop\\\\Project_1_DL\\\\Greek\\\\character06\\\\0399_14.png', 'c:\\\\Users\\\\Tanay Srivastava\\\\Desktop\\\\Project_1_DL\\\\Greek\\\\character06\\\\0399_15.png', 'c:\\\\Users\\\\Tanay Srivastava\\\\Desktop\\\\Project_1_DL\\\\Greek\\\\character06\\\\0399_16.png', 'c:\\\\Users\\\\Tanay Srivastava\\\\Desktop\\\\Project_1_DL\\\\Greek\\\\character06\\\\0399_17.png', 'c:\\\\Users\\\\Tanay Srivastava\\\\Desktop\\\\Project_1_DL\\\\Greek\\\\character06\\\\0399_18.png', 'c:\\\\Users\\\\Tanay Srivastava\\\\Desktop\\\\Project_1_DL\\\\Greek\\\\character06\\\\0399_19.png', 'c:\\\\Users\\\\Tanay Srivastava\\\\Desktop\\\\Project_1_DL\\\\Greek\\\\character06\\\\0399_20.png', 'c:\\\\Users\\\\Tanay Srivastava\\\\Desktop\\\\Project_1_DL\\\\Greek\\\\character07\\\\0400_01.png', 'c:\\\\Users\\\\Tanay Srivastava\\\\Desktop\\\\Project_1_DL\\\\Greek\\\\character07\\\\0400_02.png', 'c:\\\\Users\\\\Tanay Srivastava\\\\Desktop\\\\Project_1_DL\\\\Greek\\\\character07\\\\0400_03.png', 'c:\\\\Users\\\\Tanay Srivastava\\\\Desktop\\\\Project_1_DL\\\\Greek\\\\character07\\\\0400_04.png', 'c:\\\\Users\\\\Tanay Srivastava\\\\Desktop\\\\Project_1_DL\\\\Greek\\\\character07\\\\0400_05.png', 'c:\\\\Users\\\\Tanay Srivastava\\\\Desktop\\\\Project_1_DL\\\\Greek\\\\character07\\\\0400_06.png', 'c:\\\\Users\\\\Tanay Srivastava\\\\Desktop\\\\Project_1_DL\\\\Greek\\\\character07\\\\0400_07.png', 'c:\\\\Users\\\\Tanay Srivastava\\\\Desktop\\\\Project_1_DL\\\\Greek\\\\character07\\\\0400_08.png', 'c:\\\\Users\\\\Tanay Srivastava\\\\Desktop\\\\Project_1_DL\\\\Greek\\\\character07\\\\0400_09.png', 'c:\\\\Users\\\\Tanay Srivastava\\\\Desktop\\\\Project_1_DL\\\\Greek\\\\character07\\\\0400_10.png', 'c:\\\\Users\\\\Tanay Srivastava\\\\Desktop\\\\Project_1_DL\\\\Greek\\\\character07\\\\0400_11.png', 'c:\\\\Users\\\\Tanay Srivastava\\\\Desktop\\\\Project_1_DL\\\\Greek\\\\character07\\\\0400_12.png', 'c:\\\\Users\\\\Tanay Srivastava\\\\Desktop\\\\Project_1_DL\\\\Greek\\\\character07\\\\0400_13.png', 'c:\\\\Users\\\\Tanay Srivastava\\\\Desktop\\\\Project_1_DL\\\\Greek\\\\character07\\\\0400_14.png', 'c:\\\\Users\\\\Tanay Srivastava\\\\Desktop\\\\Project_1_DL\\\\Greek\\\\character07\\\\0400_15.png', 'c:\\\\Users\\\\Tanay Srivastava\\\\Desktop\\\\Project_1_DL\\\\Greek\\\\character07\\\\0400_16.png', 'c:\\\\Users\\\\Tanay Srivastava\\\\Desktop\\\\Project_1_DL\\\\Greek\\\\character07\\\\0400_17.png', 'c:\\\\Users\\\\Tanay Srivastava\\\\Desktop\\\\Project_1_DL\\\\Greek\\\\character07\\\\0400_18.png', 'c:\\\\Users\\\\Tanay Srivastava\\\\Desktop\\\\Project_1_DL\\\\Greek\\\\character07\\\\0400_19.png', 'c:\\\\Users\\\\Tanay Srivastava\\\\Desktop\\\\Project_1_DL\\\\Greek\\\\character07\\\\0400_20.png', 'c:\\\\Users\\\\Tanay Srivastava\\\\Desktop\\\\Project_1_DL\\\\Greek\\\\character08\\\\0401_01.png', 'c:\\\\Users\\\\Tanay Srivastava\\\\Desktop\\\\Project_1_DL\\\\Greek\\\\character08\\\\0401_02.png', 'c:\\\\Users\\\\Tanay Srivastava\\\\Desktop\\\\Project_1_DL\\\\Greek\\\\character08\\\\0401_03.png', 'c:\\\\Users\\\\Tanay Srivastava\\\\Desktop\\\\Project_1_DL\\\\Greek\\\\character08\\\\0401_04.png', 'c:\\\\Users\\\\Tanay Srivastava\\\\Desktop\\\\Project_1_DL\\\\Greek\\\\character08\\\\0401_05.png', 'c:\\\\Users\\\\Tanay Srivastava\\\\Desktop\\\\Project_1_DL\\\\Greek\\\\character08\\\\0401_06.png', 'c:\\\\Users\\\\Tanay Srivastava\\\\Desktop\\\\Project_1_DL\\\\Greek\\\\character08\\\\0401_07.png', 'c:\\\\Users\\\\Tanay Srivastava\\\\Desktop\\\\Project_1_DL\\\\Greek\\\\character08\\\\0401_08.png', 'c:\\\\Users\\\\Tanay Srivastava\\\\Desktop\\\\Project_1_DL\\\\Greek\\\\character08\\\\0401_09.png', 'c:\\\\Users\\\\Tanay Srivastava\\\\Desktop\\\\Project_1_DL\\\\Greek\\\\character08\\\\0401_10.png', 'c:\\\\Users\\\\Tanay Srivastava\\\\Desktop\\\\Project_1_DL\\\\Greek\\\\character08\\\\0401_11.png', 'c:\\\\Users\\\\Tanay Srivastava\\\\Desktop\\\\Project_1_DL\\\\Greek\\\\character08\\\\0401_12.png', 'c:\\\\Users\\\\Tanay Srivastava\\\\Desktop\\\\Project_1_DL\\\\Greek\\\\character08\\\\0401_13.png', 'c:\\\\Users\\\\Tanay Srivastava\\\\Desktop\\\\Project_1_DL\\\\Greek\\\\character08\\\\0401_14.png', 'c:\\\\Users\\\\Tanay Srivastava\\\\Desktop\\\\Project_1_DL\\\\Greek\\\\character08\\\\0401_15.png', 'c:\\\\Users\\\\Tanay Srivastava\\\\Desktop\\\\Project_1_DL\\\\Greek\\\\character08\\\\0401_16.png', 'c:\\\\Users\\\\Tanay Srivastava\\\\Desktop\\\\Project_1_DL\\\\Greek\\\\character08\\\\0401_17.png', 'c:\\\\Users\\\\Tanay Srivastava\\\\Desktop\\\\Project_1_DL\\\\Greek\\\\character08\\\\0401_18.png', 'c:\\\\Users\\\\Tanay Srivastava\\\\Desktop\\\\Project_1_DL\\\\Greek\\\\character08\\\\0401_19.png', 'c:\\\\Users\\\\Tanay Srivastava\\\\Desktop\\\\Project_1_DL\\\\Greek\\\\character08\\\\0401_20.png', 'c:\\\\Users\\\\Tanay Srivastava\\\\Desktop\\\\Project_1_DL\\\\Greek\\\\character09\\\\0402_01.png', 'c:\\\\Users\\\\Tanay Srivastava\\\\Desktop\\\\Project_1_DL\\\\Greek\\\\character09\\\\0402_02.png', 'c:\\\\Users\\\\Tanay Srivastava\\\\Desktop\\\\Project_1_DL\\\\Greek\\\\character09\\\\0402_03.png', 'c:\\\\Users\\\\Tanay Srivastava\\\\Desktop\\\\Project_1_DL\\\\Greek\\\\character09\\\\0402_04.png', 'c:\\\\Users\\\\Tanay Srivastava\\\\Desktop\\\\Project_1_DL\\\\Greek\\\\character09\\\\0402_05.png', 'c:\\\\Users\\\\Tanay Srivastava\\\\Desktop\\\\Project_1_DL\\\\Greek\\\\character09\\\\0402_06.png', 'c:\\\\Users\\\\Tanay Srivastava\\\\Desktop\\\\Project_1_DL\\\\Greek\\\\character09\\\\0402_07.png', 'c:\\\\Users\\\\Tanay Srivastava\\\\Desktop\\\\Project_1_DL\\\\Greek\\\\character09\\\\0402_08.png', 'c:\\\\Users\\\\Tanay Srivastava\\\\Desktop\\\\Project_1_DL\\\\Greek\\\\character09\\\\0402_09.png', 'c:\\\\Users\\\\Tanay Srivastava\\\\Desktop\\\\Project_1_DL\\\\Greek\\\\character09\\\\0402_10.png', 'c:\\\\Users\\\\Tanay Srivastava\\\\Desktop\\\\Project_1_DL\\\\Greek\\\\character09\\\\0402_11.png', 'c:\\\\Users\\\\Tanay Srivastava\\\\Desktop\\\\Project_1_DL\\\\Greek\\\\character09\\\\0402_12.png', 'c:\\\\Users\\\\Tanay Srivastava\\\\Desktop\\\\Project_1_DL\\\\Greek\\\\character09\\\\0402_13.png', 'c:\\\\Users\\\\Tanay Srivastava\\\\Desktop\\\\Project_1_DL\\\\Greek\\\\character09\\\\0402_14.png', 'c:\\\\Users\\\\Tanay Srivastava\\\\Desktop\\\\Project_1_DL\\\\Greek\\\\character09\\\\0402_15.png', 'c:\\\\Users\\\\Tanay Srivastava\\\\Desktop\\\\Project_1_DL\\\\Greek\\\\character09\\\\0402_16.png', 'c:\\\\Users\\\\Tanay Srivastava\\\\Desktop\\\\Project_1_DL\\\\Greek\\\\character09\\\\0402_17.png', 'c:\\\\Users\\\\Tanay Srivastava\\\\Desktop\\\\Project_1_DL\\\\Greek\\\\character09\\\\0402_18.png', 'c:\\\\Users\\\\Tanay Srivastava\\\\Desktop\\\\Project_1_DL\\\\Greek\\\\character09\\\\0402_19.png', 'c:\\\\Users\\\\Tanay Srivastava\\\\Desktop\\\\Project_1_DL\\\\Greek\\\\character09\\\\0402_20.png', 'c:\\\\Users\\\\Tanay Srivastava\\\\Desktop\\\\Project_1_DL\\\\Greek\\\\character10\\\\0403_01.png', 'c:\\\\Users\\\\Tanay Srivastava\\\\Desktop\\\\Project_1_DL\\\\Greek\\\\character10\\\\0403_02.png', 'c:\\\\Users\\\\Tanay Srivastava\\\\Desktop\\\\Project_1_DL\\\\Greek\\\\character10\\\\0403_03.png', 'c:\\\\Users\\\\Tanay Srivastava\\\\Desktop\\\\Project_1_DL\\\\Greek\\\\character10\\\\0403_04.png', 'c:\\\\Users\\\\Tanay Srivastava\\\\Desktop\\\\Project_1_DL\\\\Greek\\\\character10\\\\0403_05.png', 'c:\\\\Users\\\\Tanay Srivastava\\\\Desktop\\\\Project_1_DL\\\\Greek\\\\character10\\\\0403_06.png', 'c:\\\\Users\\\\Tanay Srivastava\\\\Desktop\\\\Project_1_DL\\\\Greek\\\\character10\\\\0403_07.png', 'c:\\\\Users\\\\Tanay Srivastava\\\\Desktop\\\\Project_1_DL\\\\Greek\\\\character10\\\\0403_08.png', 'c:\\\\Users\\\\Tanay Srivastava\\\\Desktop\\\\Project_1_DL\\\\Greek\\\\character10\\\\0403_09.png', 'c:\\\\Users\\\\Tanay Srivastava\\\\Desktop\\\\Project_1_DL\\\\Greek\\\\character10\\\\0403_10.png', 'c:\\\\Users\\\\Tanay Srivastava\\\\Desktop\\\\Project_1_DL\\\\Greek\\\\character10\\\\0403_11.png', 'c:\\\\Users\\\\Tanay Srivastava\\\\Desktop\\\\Project_1_DL\\\\Greek\\\\character10\\\\0403_12.png', 'c:\\\\Users\\\\Tanay Srivastava\\\\Desktop\\\\Project_1_DL\\\\Greek\\\\character10\\\\0403_13.png', 'c:\\\\Users\\\\Tanay Srivastava\\\\Desktop\\\\Project_1_DL\\\\Greek\\\\character10\\\\0403_14.png', 'c:\\\\Users\\\\Tanay Srivastava\\\\Desktop\\\\Project_1_DL\\\\Greek\\\\character10\\\\0403_15.png', 'c:\\\\Users\\\\Tanay Srivastava\\\\Desktop\\\\Project_1_DL\\\\Greek\\\\character10\\\\0403_16.png', 'c:\\\\Users\\\\Tanay Srivastava\\\\Desktop\\\\Project_1_DL\\\\Greek\\\\character10\\\\0403_17.png', 'c:\\\\Users\\\\Tanay Srivastava\\\\Desktop\\\\Project_1_DL\\\\Greek\\\\character10\\\\0403_18.png', 'c:\\\\Users\\\\Tanay Srivastava\\\\Desktop\\\\Project_1_DL\\\\Greek\\\\character10\\\\0403_19.png', 'c:\\\\Users\\\\Tanay Srivastava\\\\Desktop\\\\Project_1_DL\\\\Greek\\\\character10\\\\0403_20.png', 'c:\\\\Users\\\\Tanay Srivastava\\\\Desktop\\\\Project_1_DL\\\\Greek\\\\character11\\\\0404_01.png', 'c:\\\\Users\\\\Tanay Srivastava\\\\Desktop\\\\Project_1_DL\\\\Greek\\\\character11\\\\0404_02.png', 'c:\\\\Users\\\\Tanay Srivastava\\\\Desktop\\\\Project_1_DL\\\\Greek\\\\character11\\\\0404_03.png', 'c:\\\\Users\\\\Tanay Srivastava\\\\Desktop\\\\Project_1_DL\\\\Greek\\\\character11\\\\0404_04.png', 'c:\\\\Users\\\\Tanay Srivastava\\\\Desktop\\\\Project_1_DL\\\\Greek\\\\character11\\\\0404_05.png', 'c:\\\\Users\\\\Tanay Srivastava\\\\Desktop\\\\Project_1_DL\\\\Greek\\\\character11\\\\0404_06.png', 'c:\\\\Users\\\\Tanay Srivastava\\\\Desktop\\\\Project_1_DL\\\\Greek\\\\character11\\\\0404_07.png', 'c:\\\\Users\\\\Tanay Srivastava\\\\Desktop\\\\Project_1_DL\\\\Greek\\\\character11\\\\0404_08.png', 'c:\\\\Users\\\\Tanay Srivastava\\\\Desktop\\\\Project_1_DL\\\\Greek\\\\character11\\\\0404_09.png', 'c:\\\\Users\\\\Tanay Srivastava\\\\Desktop\\\\Project_1_DL\\\\Greek\\\\character11\\\\0404_10.png', 'c:\\\\Users\\\\Tanay Srivastava\\\\Desktop\\\\Project_1_DL\\\\Greek\\\\character11\\\\0404_11.png', 'c:\\\\Users\\\\Tanay Srivastava\\\\Desktop\\\\Project_1_DL\\\\Greek\\\\character11\\\\0404_12.png', 'c:\\\\Users\\\\Tanay Srivastava\\\\Desktop\\\\Project_1_DL\\\\Greek\\\\character11\\\\0404_13.png', 'c:\\\\Users\\\\Tanay Srivastava\\\\Desktop\\\\Project_1_DL\\\\Greek\\\\character11\\\\0404_14.png', 'c:\\\\Users\\\\Tanay Srivastava\\\\Desktop\\\\Project_1_DL\\\\Greek\\\\character11\\\\0404_15.png', 'c:\\\\Users\\\\Tanay Srivastava\\\\Desktop\\\\Project_1_DL\\\\Greek\\\\character11\\\\0404_16.png', 'c:\\\\Users\\\\Tanay Srivastava\\\\Desktop\\\\Project_1_DL\\\\Greek\\\\character11\\\\0404_17.png', 'c:\\\\Users\\\\Tanay Srivastava\\\\Desktop\\\\Project_1_DL\\\\Greek\\\\character11\\\\0404_18.png', 'c:\\\\Users\\\\Tanay Srivastava\\\\Desktop\\\\Project_1_DL\\\\Greek\\\\character11\\\\0404_19.png', 'c:\\\\Users\\\\Tanay Srivastava\\\\Desktop\\\\Project_1_DL\\\\Greek\\\\character11\\\\0404_20.png', 'c:\\\\Users\\\\Tanay Srivastava\\\\Desktop\\\\Project_1_DL\\\\Greek\\\\character12\\\\0405_01.png', 'c:\\\\Users\\\\Tanay Srivastava\\\\Desktop\\\\Project_1_DL\\\\Greek\\\\character12\\\\0405_02.png', 'c:\\\\Users\\\\Tanay Srivastava\\\\Desktop\\\\Project_1_DL\\\\Greek\\\\character12\\\\0405_03.png', 'c:\\\\Users\\\\Tanay Srivastava\\\\Desktop\\\\Project_1_DL\\\\Greek\\\\character12\\\\0405_04.png', 'c:\\\\Users\\\\Tanay Srivastava\\\\Desktop\\\\Project_1_DL\\\\Greek\\\\character12\\\\0405_05.png', 'c:\\\\Users\\\\Tanay Srivastava\\\\Desktop\\\\Project_1_DL\\\\Greek\\\\character12\\\\0405_06.png', 'c:\\\\Users\\\\Tanay Srivastava\\\\Desktop\\\\Project_1_DL\\\\Greek\\\\character12\\\\0405_07.png', 'c:\\\\Users\\\\Tanay Srivastava\\\\Desktop\\\\Project_1_DL\\\\Greek\\\\character12\\\\0405_08.png', 'c:\\\\Users\\\\Tanay Srivastava\\\\Desktop\\\\Project_1_DL\\\\Greek\\\\character12\\\\0405_09.png', 'c:\\\\Users\\\\Tanay Srivastava\\\\Desktop\\\\Project_1_DL\\\\Greek\\\\character12\\\\0405_10.png', 'c:\\\\Users\\\\Tanay Srivastava\\\\Desktop\\\\Project_1_DL\\\\Greek\\\\character12\\\\0405_11.png', 'c:\\\\Users\\\\Tanay Srivastava\\\\Desktop\\\\Project_1_DL\\\\Greek\\\\character12\\\\0405_12.png', 'c:\\\\Users\\\\Tanay Srivastava\\\\Desktop\\\\Project_1_DL\\\\Greek\\\\character12\\\\0405_13.png', 'c:\\\\Users\\\\Tanay Srivastava\\\\Desktop\\\\Project_1_DL\\\\Greek\\\\character12\\\\0405_14.png', 'c:\\\\Users\\\\Tanay Srivastava\\\\Desktop\\\\Project_1_DL\\\\Greek\\\\character12\\\\0405_15.png', 'c:\\\\Users\\\\Tanay Srivastava\\\\Desktop\\\\Project_1_DL\\\\Greek\\\\character12\\\\0405_16.png', 'c:\\\\Users\\\\Tanay Srivastava\\\\Desktop\\\\Project_1_DL\\\\Greek\\\\character12\\\\0405_17.png', 'c:\\\\Users\\\\Tanay Srivastava\\\\Desktop\\\\Project_1_DL\\\\Greek\\\\character12\\\\0405_18.png', 'c:\\\\Users\\\\Tanay Srivastava\\\\Desktop\\\\Project_1_DL\\\\Greek\\\\character12\\\\0405_19.png', 'c:\\\\Users\\\\Tanay Srivastava\\\\Desktop\\\\Project_1_DL\\\\Greek\\\\character12\\\\0405_20.png', 'c:\\\\Users\\\\Tanay Srivastava\\\\Desktop\\\\Project_1_DL\\\\Greek\\\\character13\\\\0406_01.png', 'c:\\\\Users\\\\Tanay Srivastava\\\\Desktop\\\\Project_1_DL\\\\Greek\\\\character13\\\\0406_02.png', 'c:\\\\Users\\\\Tanay Srivastava\\\\Desktop\\\\Project_1_DL\\\\Greek\\\\character13\\\\0406_03.png', 'c:\\\\Users\\\\Tanay Srivastava\\\\Desktop\\\\Project_1_DL\\\\Greek\\\\character13\\\\0406_04.png', 'c:\\\\Users\\\\Tanay Srivastava\\\\Desktop\\\\Project_1_DL\\\\Greek\\\\character13\\\\0406_05.png', 'c:\\\\Users\\\\Tanay Srivastava\\\\Desktop\\\\Project_1_DL\\\\Greek\\\\character13\\\\0406_06.png', 'c:\\\\Users\\\\Tanay Srivastava\\\\Desktop\\\\Project_1_DL\\\\Greek\\\\character13\\\\0406_07.png', 'c:\\\\Users\\\\Tanay Srivastava\\\\Desktop\\\\Project_1_DL\\\\Greek\\\\character13\\\\0406_08.png', 'c:\\\\Users\\\\Tanay Srivastava\\\\Desktop\\\\Project_1_DL\\\\Greek\\\\character13\\\\0406_09.png', 'c:\\\\Users\\\\Tanay Srivastava\\\\Desktop\\\\Project_1_DL\\\\Greek\\\\character13\\\\0406_10.png', 'c:\\\\Users\\\\Tanay Srivastava\\\\Desktop\\\\Project_1_DL\\\\Greek\\\\character13\\\\0406_11.png', 'c:\\\\Users\\\\Tanay Srivastava\\\\Desktop\\\\Project_1_DL\\\\Greek\\\\character13\\\\0406_12.png', 'c:\\\\Users\\\\Tanay Srivastava\\\\Desktop\\\\Project_1_DL\\\\Greek\\\\character13\\\\0406_13.png', 'c:\\\\Users\\\\Tanay Srivastava\\\\Desktop\\\\Project_1_DL\\\\Greek\\\\character13\\\\0406_14.png', 'c:\\\\Users\\\\Tanay Srivastava\\\\Desktop\\\\Project_1_DL\\\\Greek\\\\character13\\\\0406_15.png', 'c:\\\\Users\\\\Tanay Srivastava\\\\Desktop\\\\Project_1_DL\\\\Greek\\\\character13\\\\0406_16.png', 'c:\\\\Users\\\\Tanay Srivastava\\\\Desktop\\\\Project_1_DL\\\\Greek\\\\character13\\\\0406_17.png', 'c:\\\\Users\\\\Tanay Srivastava\\\\Desktop\\\\Project_1_DL\\\\Greek\\\\character13\\\\0406_18.png', 'c:\\\\Users\\\\Tanay Srivastava\\\\Desktop\\\\Project_1_DL\\\\Greek\\\\character13\\\\0406_19.png', 'c:\\\\Users\\\\Tanay Srivastava\\\\Desktop\\\\Project_1_DL\\\\Greek\\\\character13\\\\0406_20.png', 'c:\\\\Users\\\\Tanay Srivastava\\\\Desktop\\\\Project_1_DL\\\\Greek\\\\character14\\\\0407_01.png', 'c:\\\\Users\\\\Tanay Srivastava\\\\Desktop\\\\Project_1_DL\\\\Greek\\\\character14\\\\0407_02.png', 'c:\\\\Users\\\\Tanay Srivastava\\\\Desktop\\\\Project_1_DL\\\\Greek\\\\character14\\\\0407_03.png', 'c:\\\\Users\\\\Tanay Srivastava\\\\Desktop\\\\Project_1_DL\\\\Greek\\\\character14\\\\0407_04.png', 'c:\\\\Users\\\\Tanay Srivastava\\\\Desktop\\\\Project_1_DL\\\\Greek\\\\character14\\\\0407_05.png', 'c:\\\\Users\\\\Tanay Srivastava\\\\Desktop\\\\Project_1_DL\\\\Greek\\\\character14\\\\0407_06.png', 'c:\\\\Users\\\\Tanay Srivastava\\\\Desktop\\\\Project_1_DL\\\\Greek\\\\character14\\\\0407_07.png', 'c:\\\\Users\\\\Tanay Srivastava\\\\Desktop\\\\Project_1_DL\\\\Greek\\\\character14\\\\0407_08.png', 'c:\\\\Users\\\\Tanay Srivastava\\\\Desktop\\\\Project_1_DL\\\\Greek\\\\character14\\\\0407_09.png', 'c:\\\\Users\\\\Tanay Srivastava\\\\Desktop\\\\Project_1_DL\\\\Greek\\\\character14\\\\0407_10.png', 'c:\\\\Users\\\\Tanay Srivastava\\\\Desktop\\\\Project_1_DL\\\\Greek\\\\character14\\\\0407_11.png', 'c:\\\\Users\\\\Tanay Srivastava\\\\Desktop\\\\Project_1_DL\\\\Greek\\\\character14\\\\0407_12.png', 'c:\\\\Users\\\\Tanay Srivastava\\\\Desktop\\\\Project_1_DL\\\\Greek\\\\character14\\\\0407_13.png', 'c:\\\\Users\\\\Tanay Srivastava\\\\Desktop\\\\Project_1_DL\\\\Greek\\\\character14\\\\0407_14.png', 'c:\\\\Users\\\\Tanay Srivastava\\\\Desktop\\\\Project_1_DL\\\\Greek\\\\character14\\\\0407_15.png', 'c:\\\\Users\\\\Tanay Srivastava\\\\Desktop\\\\Project_1_DL\\\\Greek\\\\character14\\\\0407_16.png', 'c:\\\\Users\\\\Tanay Srivastava\\\\Desktop\\\\Project_1_DL\\\\Greek\\\\character14\\\\0407_17.png', 'c:\\\\Users\\\\Tanay Srivastava\\\\Desktop\\\\Project_1_DL\\\\Greek\\\\character14\\\\0407_18.png', 'c:\\\\Users\\\\Tanay Srivastava\\\\Desktop\\\\Project_1_DL\\\\Greek\\\\character14\\\\0407_19.png', 'c:\\\\Users\\\\Tanay Srivastava\\\\Desktop\\\\Project_1_DL\\\\Greek\\\\character14\\\\0407_20.png', 'c:\\\\Users\\\\Tanay Srivastava\\\\Desktop\\\\Project_1_DL\\\\Greek\\\\character15\\\\0408_01.png', 'c:\\\\Users\\\\Tanay Srivastava\\\\Desktop\\\\Project_1_DL\\\\Greek\\\\character15\\\\0408_02.png', 'c:\\\\Users\\\\Tanay Srivastava\\\\Desktop\\\\Project_1_DL\\\\Greek\\\\character15\\\\0408_03.png', 'c:\\\\Users\\\\Tanay Srivastava\\\\Desktop\\\\Project_1_DL\\\\Greek\\\\character15\\\\0408_04.png', 'c:\\\\Users\\\\Tanay Srivastava\\\\Desktop\\\\Project_1_DL\\\\Greek\\\\character15\\\\0408_05.png', 'c:\\\\Users\\\\Tanay Srivastava\\\\Desktop\\\\Project_1_DL\\\\Greek\\\\character15\\\\0408_06.png', 'c:\\\\Users\\\\Tanay Srivastava\\\\Desktop\\\\Project_1_DL\\\\Greek\\\\character15\\\\0408_07.png', 'c:\\\\Users\\\\Tanay Srivastava\\\\Desktop\\\\Project_1_DL\\\\Greek\\\\character15\\\\0408_08.png', 'c:\\\\Users\\\\Tanay Srivastava\\\\Desktop\\\\Project_1_DL\\\\Greek\\\\character15\\\\0408_09.png', 'c:\\\\Users\\\\Tanay Srivastava\\\\Desktop\\\\Project_1_DL\\\\Greek\\\\character15\\\\0408_10.png', 'c:\\\\Users\\\\Tanay Srivastava\\\\Desktop\\\\Project_1_DL\\\\Greek\\\\character15\\\\0408_11.png', 'c:\\\\Users\\\\Tanay Srivastava\\\\Desktop\\\\Project_1_DL\\\\Greek\\\\character15\\\\0408_12.png', 'c:\\\\Users\\\\Tanay Srivastava\\\\Desktop\\\\Project_1_DL\\\\Greek\\\\character15\\\\0408_13.png', 'c:\\\\Users\\\\Tanay Srivastava\\\\Desktop\\\\Project_1_DL\\\\Greek\\\\character15\\\\0408_14.png', 'c:\\\\Users\\\\Tanay Srivastava\\\\Desktop\\\\Project_1_DL\\\\Greek\\\\character15\\\\0408_15.png', 'c:\\\\Users\\\\Tanay Srivastava\\\\Desktop\\\\Project_1_DL\\\\Greek\\\\character15\\\\0408_16.png', 'c:\\\\Users\\\\Tanay Srivastava\\\\Desktop\\\\Project_1_DL\\\\Greek\\\\character15\\\\0408_17.png', 'c:\\\\Users\\\\Tanay Srivastava\\\\Desktop\\\\Project_1_DL\\\\Greek\\\\character15\\\\0408_18.png', 'c:\\\\Users\\\\Tanay Srivastava\\\\Desktop\\\\Project_1_DL\\\\Greek\\\\character15\\\\0408_19.png', 'c:\\\\Users\\\\Tanay Srivastava\\\\Desktop\\\\Project_1_DL\\\\Greek\\\\character15\\\\0408_20.png', 'c:\\\\Users\\\\Tanay Srivastava\\\\Desktop\\\\Project_1_DL\\\\Greek\\\\character16\\\\0409_01.png', 'c:\\\\Users\\\\Tanay Srivastava\\\\Desktop\\\\Project_1_DL\\\\Greek\\\\character16\\\\0409_02.png', 'c:\\\\Users\\\\Tanay Srivastava\\\\Desktop\\\\Project_1_DL\\\\Greek\\\\character16\\\\0409_03.png', 'c:\\\\Users\\\\Tanay Srivastava\\\\Desktop\\\\Project_1_DL\\\\Greek\\\\character16\\\\0409_04.png', 'c:\\\\Users\\\\Tanay Srivastava\\\\Desktop\\\\Project_1_DL\\\\Greek\\\\character16\\\\0409_05.png', 'c:\\\\Users\\\\Tanay Srivastava\\\\Desktop\\\\Project_1_DL\\\\Greek\\\\character16\\\\0409_06.png', 'c:\\\\Users\\\\Tanay Srivastava\\\\Desktop\\\\Project_1_DL\\\\Greek\\\\character16\\\\0409_07.png', 'c:\\\\Users\\\\Tanay Srivastava\\\\Desktop\\\\Project_1_DL\\\\Greek\\\\character16\\\\0409_08.png', 'c:\\\\Users\\\\Tanay Srivastava\\\\Desktop\\\\Project_1_DL\\\\Greek\\\\character16\\\\0409_09.png', 'c:\\\\Users\\\\Tanay Srivastava\\\\Desktop\\\\Project_1_DL\\\\Greek\\\\character16\\\\0409_10.png', 'c:\\\\Users\\\\Tanay Srivastava\\\\Desktop\\\\Project_1_DL\\\\Greek\\\\character16\\\\0409_11.png', 'c:\\\\Users\\\\Tanay Srivastava\\\\Desktop\\\\Project_1_DL\\\\Greek\\\\character16\\\\0409_12.png', 'c:\\\\Users\\\\Tanay Srivastava\\\\Desktop\\\\Project_1_DL\\\\Greek\\\\character16\\\\0409_13.png', 'c:\\\\Users\\\\Tanay Srivastava\\\\Desktop\\\\Project_1_DL\\\\Greek\\\\character16\\\\0409_14.png', 'c:\\\\Users\\\\Tanay Srivastava\\\\Desktop\\\\Project_1_DL\\\\Greek\\\\character16\\\\0409_15.png', 'c:\\\\Users\\\\Tanay Srivastava\\\\Desktop\\\\Project_1_DL\\\\Greek\\\\character16\\\\0409_16.png', 'c:\\\\Users\\\\Tanay Srivastava\\\\Desktop\\\\Project_1_DL\\\\Greek\\\\character16\\\\0409_17.png', 'c:\\\\Users\\\\Tanay Srivastava\\\\Desktop\\\\Project_1_DL\\\\Greek\\\\character16\\\\0409_18.png', 'c:\\\\Users\\\\Tanay Srivastava\\\\Desktop\\\\Project_1_DL\\\\Greek\\\\character16\\\\0409_19.png', 'c:\\\\Users\\\\Tanay Srivastava\\\\Desktop\\\\Project_1_DL\\\\Greek\\\\character16\\\\0409_20.png', 'c:\\\\Users\\\\Tanay Srivastava\\\\Desktop\\\\Project_1_DL\\\\Greek\\\\character17\\\\0410_01.png', 'c:\\\\Users\\\\Tanay Srivastava\\\\Desktop\\\\Project_1_DL\\\\Greek\\\\character17\\\\0410_02.png', 'c:\\\\Users\\\\Tanay Srivastava\\\\Desktop\\\\Project_1_DL\\\\Greek\\\\character17\\\\0410_03.png', 'c:\\\\Users\\\\Tanay Srivastava\\\\Desktop\\\\Project_1_DL\\\\Greek\\\\character17\\\\0410_04.png', 'c:\\\\Users\\\\Tanay Srivastava\\\\Desktop\\\\Project_1_DL\\\\Greek\\\\character17\\\\0410_05.png', 'c:\\\\Users\\\\Tanay Srivastava\\\\Desktop\\\\Project_1_DL\\\\Greek\\\\character17\\\\0410_06.png', 'c:\\\\Users\\\\Tanay Srivastava\\\\Desktop\\\\Project_1_DL\\\\Greek\\\\character17\\\\0410_07.png', 'c:\\\\Users\\\\Tanay Srivastava\\\\Desktop\\\\Project_1_DL\\\\Greek\\\\character17\\\\0410_08.png', 'c:\\\\Users\\\\Tanay Srivastava\\\\Desktop\\\\Project_1_DL\\\\Greek\\\\character17\\\\0410_09.png', 'c:\\\\Users\\\\Tanay Srivastava\\\\Desktop\\\\Project_1_DL\\\\Greek\\\\character17\\\\0410_10.png', 'c:\\\\Users\\\\Tanay Srivastava\\\\Desktop\\\\Project_1_DL\\\\Greek\\\\character17\\\\0410_11.png', 'c:\\\\Users\\\\Tanay Srivastava\\\\Desktop\\\\Project_1_DL\\\\Greek\\\\character17\\\\0410_12.png', 'c:\\\\Users\\\\Tanay Srivastava\\\\Desktop\\\\Project_1_DL\\\\Greek\\\\character17\\\\0410_13.png', 'c:\\\\Users\\\\Tanay Srivastava\\\\Desktop\\\\Project_1_DL\\\\Greek\\\\character17\\\\0410_14.png', 'c:\\\\Users\\\\Tanay Srivastava\\\\Desktop\\\\Project_1_DL\\\\Greek\\\\character17\\\\0410_15.png', 'c:\\\\Users\\\\Tanay Srivastava\\\\Desktop\\\\Project_1_DL\\\\Greek\\\\character17\\\\0410_16.png', 'c:\\\\Users\\\\Tanay Srivastava\\\\Desktop\\\\Project_1_DL\\\\Greek\\\\character17\\\\0410_17.png', 'c:\\\\Users\\\\Tanay Srivastava\\\\Desktop\\\\Project_1_DL\\\\Greek\\\\character17\\\\0410_18.png', 'c:\\\\Users\\\\Tanay Srivastava\\\\Desktop\\\\Project_1_DL\\\\Greek\\\\character17\\\\0410_19.png', 'c:\\\\Users\\\\Tanay Srivastava\\\\Desktop\\\\Project_1_DL\\\\Greek\\\\character17\\\\0410_20.png', 'c:\\\\Users\\\\Tanay Srivastava\\\\Desktop\\\\Project_1_DL\\\\Greek\\\\character18\\\\0411_01.png', 'c:\\\\Users\\\\Tanay Srivastava\\\\Desktop\\\\Project_1_DL\\\\Greek\\\\character18\\\\0411_02.png', 'c:\\\\Users\\\\Tanay Srivastava\\\\Desktop\\\\Project_1_DL\\\\Greek\\\\character18\\\\0411_03.png', 'c:\\\\Users\\\\Tanay Srivastava\\\\Desktop\\\\Project_1_DL\\\\Greek\\\\character18\\\\0411_04.png', 'c:\\\\Users\\\\Tanay Srivastava\\\\Desktop\\\\Project_1_DL\\\\Greek\\\\character18\\\\0411_05.png', 'c:\\\\Users\\\\Tanay Srivastava\\\\Desktop\\\\Project_1_DL\\\\Greek\\\\character18\\\\0411_06.png', 'c:\\\\Users\\\\Tanay Srivastava\\\\Desktop\\\\Project_1_DL\\\\Greek\\\\character18\\\\0411_07.png', 'c:\\\\Users\\\\Tanay Srivastava\\\\Desktop\\\\Project_1_DL\\\\Greek\\\\character18\\\\0411_08.png', 'c:\\\\Users\\\\Tanay Srivastava\\\\Desktop\\\\Project_1_DL\\\\Greek\\\\character18\\\\0411_09.png', 'c:\\\\Users\\\\Tanay Srivastava\\\\Desktop\\\\Project_1_DL\\\\Greek\\\\character18\\\\0411_10.png', 'c:\\\\Users\\\\Tanay Srivastava\\\\Desktop\\\\Project_1_DL\\\\Greek\\\\character18\\\\0411_11.png', 'c:\\\\Users\\\\Tanay Srivastava\\\\Desktop\\\\Project_1_DL\\\\Greek\\\\character18\\\\0411_12.png', 'c:\\\\Users\\\\Tanay Srivastava\\\\Desktop\\\\Project_1_DL\\\\Greek\\\\character18\\\\0411_13.png', 'c:\\\\Users\\\\Tanay Srivastava\\\\Desktop\\\\Project_1_DL\\\\Greek\\\\character18\\\\0411_14.png', 'c:\\\\Users\\\\Tanay Srivastava\\\\Desktop\\\\Project_1_DL\\\\Greek\\\\character18\\\\0411_15.png', 'c:\\\\Users\\\\Tanay Srivastava\\\\Desktop\\\\Project_1_DL\\\\Greek\\\\character18\\\\0411_16.png', 'c:\\\\Users\\\\Tanay Srivastava\\\\Desktop\\\\Project_1_DL\\\\Greek\\\\character18\\\\0411_17.png', 'c:\\\\Users\\\\Tanay Srivastava\\\\Desktop\\\\Project_1_DL\\\\Greek\\\\character18\\\\0411_18.png', 'c:\\\\Users\\\\Tanay Srivastava\\\\Desktop\\\\Project_1_DL\\\\Greek\\\\character18\\\\0411_19.png', 'c:\\\\Users\\\\Tanay Srivastava\\\\Desktop\\\\Project_1_DL\\\\Greek\\\\character18\\\\0411_20.png', 'c:\\\\Users\\\\Tanay Srivastava\\\\Desktop\\\\Project_1_DL\\\\Greek\\\\character19\\\\0412_01.png', 'c:\\\\Users\\\\Tanay Srivastava\\\\Desktop\\\\Project_1_DL\\\\Greek\\\\character19\\\\0412_02.png', 'c:\\\\Users\\\\Tanay Srivastava\\\\Desktop\\\\Project_1_DL\\\\Greek\\\\character19\\\\0412_03.png', 'c:\\\\Users\\\\Tanay Srivastava\\\\Desktop\\\\Project_1_DL\\\\Greek\\\\character19\\\\0412_04.png', 'c:\\\\Users\\\\Tanay Srivastava\\\\Desktop\\\\Project_1_DL\\\\Greek\\\\character19\\\\0412_05.png', 'c:\\\\Users\\\\Tanay Srivastava\\\\Desktop\\\\Project_1_DL\\\\Greek\\\\character19\\\\0412_06.png', 'c:\\\\Users\\\\Tanay Srivastava\\\\Desktop\\\\Project_1_DL\\\\Greek\\\\character19\\\\0412_07.png', 'c:\\\\Users\\\\Tanay Srivastava\\\\Desktop\\\\Project_1_DL\\\\Greek\\\\character19\\\\0412_08.png', 'c:\\\\Users\\\\Tanay Srivastava\\\\Desktop\\\\Project_1_DL\\\\Greek\\\\character19\\\\0412_09.png', 'c:\\\\Users\\\\Tanay Srivastava\\\\Desktop\\\\Project_1_DL\\\\Greek\\\\character19\\\\0412_10.png', 'c:\\\\Users\\\\Tanay Srivastava\\\\Desktop\\\\Project_1_DL\\\\Greek\\\\character19\\\\0412_11.png', 'c:\\\\Users\\\\Tanay Srivastava\\\\Desktop\\\\Project_1_DL\\\\Greek\\\\character19\\\\0412_12.png', 'c:\\\\Users\\\\Tanay Srivastava\\\\Desktop\\\\Project_1_DL\\\\Greek\\\\character19\\\\0412_13.png', 'c:\\\\Users\\\\Tanay Srivastava\\\\Desktop\\\\Project_1_DL\\\\Greek\\\\character19\\\\0412_14.png', 'c:\\\\Users\\\\Tanay Srivastava\\\\Desktop\\\\Project_1_DL\\\\Greek\\\\character19\\\\0412_15.png', 'c:\\\\Users\\\\Tanay Srivastava\\\\Desktop\\\\Project_1_DL\\\\Greek\\\\character19\\\\0412_16.png', 'c:\\\\Users\\\\Tanay Srivastava\\\\Desktop\\\\Project_1_DL\\\\Greek\\\\character19\\\\0412_17.png', 'c:\\\\Users\\\\Tanay Srivastava\\\\Desktop\\\\Project_1_DL\\\\Greek\\\\character19\\\\0412_18.png', 'c:\\\\Users\\\\Tanay Srivastava\\\\Desktop\\\\Project_1_DL\\\\Greek\\\\character19\\\\0412_19.png', 'c:\\\\Users\\\\Tanay Srivastava\\\\Desktop\\\\Project_1_DL\\\\Greek\\\\character19\\\\0412_20.png', 'c:\\\\Users\\\\Tanay Srivastava\\\\Desktop\\\\Project_1_DL\\\\Greek\\\\character20\\\\0413_01.png', 'c:\\\\Users\\\\Tanay Srivastava\\\\Desktop\\\\Project_1_DL\\\\Greek\\\\character20\\\\0413_02.png', 'c:\\\\Users\\\\Tanay Srivastava\\\\Desktop\\\\Project_1_DL\\\\Greek\\\\character20\\\\0413_03.png', 'c:\\\\Users\\\\Tanay Srivastava\\\\Desktop\\\\Project_1_DL\\\\Greek\\\\character20\\\\0413_04.png', 'c:\\\\Users\\\\Tanay Srivastava\\\\Desktop\\\\Project_1_DL\\\\Greek\\\\character20\\\\0413_05.png', 'c:\\\\Users\\\\Tanay Srivastava\\\\Desktop\\\\Project_1_DL\\\\Greek\\\\character20\\\\0413_06.png', 'c:\\\\Users\\\\Tanay Srivastava\\\\Desktop\\\\Project_1_DL\\\\Greek\\\\character20\\\\0413_07.png', 'c:\\\\Users\\\\Tanay Srivastava\\\\Desktop\\\\Project_1_DL\\\\Greek\\\\character20\\\\0413_08.png', 'c:\\\\Users\\\\Tanay Srivastava\\\\Desktop\\\\Project_1_DL\\\\Greek\\\\character20\\\\0413_09.png', 'c:\\\\Users\\\\Tanay Srivastava\\\\Desktop\\\\Project_1_DL\\\\Greek\\\\character20\\\\0413_10.png', 'c:\\\\Users\\\\Tanay Srivastava\\\\Desktop\\\\Project_1_DL\\\\Greek\\\\character20\\\\0413_11.png', 'c:\\\\Users\\\\Tanay Srivastava\\\\Desktop\\\\Project_1_DL\\\\Greek\\\\character20\\\\0413_12.png', 'c:\\\\Users\\\\Tanay Srivastava\\\\Desktop\\\\Project_1_DL\\\\Greek\\\\character20\\\\0413_13.png', 'c:\\\\Users\\\\Tanay Srivastava\\\\Desktop\\\\Project_1_DL\\\\Greek\\\\character20\\\\0413_14.png', 'c:\\\\Users\\\\Tanay Srivastava\\\\Desktop\\\\Project_1_DL\\\\Greek\\\\character20\\\\0413_15.png', 'c:\\\\Users\\\\Tanay Srivastava\\\\Desktop\\\\Project_1_DL\\\\Greek\\\\character20\\\\0413_16.png', 'c:\\\\Users\\\\Tanay Srivastava\\\\Desktop\\\\Project_1_DL\\\\Greek\\\\character20\\\\0413_17.png', 'c:\\\\Users\\\\Tanay Srivastava\\\\Desktop\\\\Project_1_DL\\\\Greek\\\\character20\\\\0413_18.png', 'c:\\\\Users\\\\Tanay Srivastava\\\\Desktop\\\\Project_1_DL\\\\Greek\\\\character20\\\\0413_19.png', 'c:\\\\Users\\\\Tanay Srivastava\\\\Desktop\\\\Project_1_DL\\\\Greek\\\\character20\\\\0413_20.png', 'c:\\\\Users\\\\Tanay Srivastava\\\\Desktop\\\\Project_1_DL\\\\Greek\\\\character21\\\\0414_01.png', 'c:\\\\Users\\\\Tanay Srivastava\\\\Desktop\\\\Project_1_DL\\\\Greek\\\\character21\\\\0414_02.png', 'c:\\\\Users\\\\Tanay Srivastava\\\\Desktop\\\\Project_1_DL\\\\Greek\\\\character21\\\\0414_03.png', 'c:\\\\Users\\\\Tanay Srivastava\\\\Desktop\\\\Project_1_DL\\\\Greek\\\\character21\\\\0414_04.png', 'c:\\\\Users\\\\Tanay Srivastava\\\\Desktop\\\\Project_1_DL\\\\Greek\\\\character21\\\\0414_05.png', 'c:\\\\Users\\\\Tanay Srivastava\\\\Desktop\\\\Project_1_DL\\\\Greek\\\\character21\\\\0414_06.png', 'c:\\\\Users\\\\Tanay Srivastava\\\\Desktop\\\\Project_1_DL\\\\Greek\\\\character21\\\\0414_07.png', 'c:\\\\Users\\\\Tanay Srivastava\\\\Desktop\\\\Project_1_DL\\\\Greek\\\\character21\\\\0414_08.png', 'c:\\\\Users\\\\Tanay Srivastava\\\\Desktop\\\\Project_1_DL\\\\Greek\\\\character21\\\\0414_09.png', 'c:\\\\Users\\\\Tanay Srivastava\\\\Desktop\\\\Project_1_DL\\\\Greek\\\\character21\\\\0414_10.png', 'c:\\\\Users\\\\Tanay Srivastava\\\\Desktop\\\\Project_1_DL\\\\Greek\\\\character21\\\\0414_11.png', 'c:\\\\Users\\\\Tanay Srivastava\\\\Desktop\\\\Project_1_DL\\\\Greek\\\\character21\\\\0414_12.png', 'c:\\\\Users\\\\Tanay Srivastava\\\\Desktop\\\\Project_1_DL\\\\Greek\\\\character21\\\\0414_13.png', 'c:\\\\Users\\\\Tanay Srivastava\\\\Desktop\\\\Project_1_DL\\\\Greek\\\\character21\\\\0414_14.png', 'c:\\\\Users\\\\Tanay Srivastava\\\\Desktop\\\\Project_1_DL\\\\Greek\\\\character21\\\\0414_15.png', 'c:\\\\Users\\\\Tanay Srivastava\\\\Desktop\\\\Project_1_DL\\\\Greek\\\\character21\\\\0414_16.png', 'c:\\\\Users\\\\Tanay Srivastava\\\\Desktop\\\\Project_1_DL\\\\Greek\\\\character21\\\\0414_17.png', 'c:\\\\Users\\\\Tanay Srivastava\\\\Desktop\\\\Project_1_DL\\\\Greek\\\\character21\\\\0414_18.png', 'c:\\\\Users\\\\Tanay Srivastava\\\\Desktop\\\\Project_1_DL\\\\Greek\\\\character21\\\\0414_19.png', 'c:\\\\Users\\\\Tanay Srivastava\\\\Desktop\\\\Project_1_DL\\\\Greek\\\\character21\\\\0414_20.png', 'c:\\\\Users\\\\Tanay Srivastava\\\\Desktop\\\\Project_1_DL\\\\Greek\\\\character22\\\\0415_01.png', 'c:\\\\Users\\\\Tanay Srivastava\\\\Desktop\\\\Project_1_DL\\\\Greek\\\\character22\\\\0415_02.png', 'c:\\\\Users\\\\Tanay Srivastava\\\\Desktop\\\\Project_1_DL\\\\Greek\\\\character22\\\\0415_03.png', 'c:\\\\Users\\\\Tanay Srivastava\\\\Desktop\\\\Project_1_DL\\\\Greek\\\\character22\\\\0415_04.png', 'c:\\\\Users\\\\Tanay Srivastava\\\\Desktop\\\\Project_1_DL\\\\Greek\\\\character22\\\\0415_05.png', 'c:\\\\Users\\\\Tanay Srivastava\\\\Desktop\\\\Project_1_DL\\\\Greek\\\\character22\\\\0415_06.png', 'c:\\\\Users\\\\Tanay Srivastava\\\\Desktop\\\\Project_1_DL\\\\Greek\\\\character22\\\\0415_07.png', 'c:\\\\Users\\\\Tanay Srivastava\\\\Desktop\\\\Project_1_DL\\\\Greek\\\\character22\\\\0415_08.png', 'c:\\\\Users\\\\Tanay Srivastava\\\\Desktop\\\\Project_1_DL\\\\Greek\\\\character22\\\\0415_09.png', 'c:\\\\Users\\\\Tanay Srivastava\\\\Desktop\\\\Project_1_DL\\\\Greek\\\\character22\\\\0415_10.png', 'c:\\\\Users\\\\Tanay Srivastava\\\\Desktop\\\\Project_1_DL\\\\Greek\\\\character22\\\\0415_11.png', 'c:\\\\Users\\\\Tanay Srivastava\\\\Desktop\\\\Project_1_DL\\\\Greek\\\\character22\\\\0415_12.png', 'c:\\\\Users\\\\Tanay Srivastava\\\\Desktop\\\\Project_1_DL\\\\Greek\\\\character22\\\\0415_13.png', 'c:\\\\Users\\\\Tanay Srivastava\\\\Desktop\\\\Project_1_DL\\\\Greek\\\\character22\\\\0415_14.png', 'c:\\\\Users\\\\Tanay Srivastava\\\\Desktop\\\\Project_1_DL\\\\Greek\\\\character22\\\\0415_15.png', 'c:\\\\Users\\\\Tanay Srivastava\\\\Desktop\\\\Project_1_DL\\\\Greek\\\\character22\\\\0415_16.png', 'c:\\\\Users\\\\Tanay Srivastava\\\\Desktop\\\\Project_1_DL\\\\Greek\\\\character22\\\\0415_17.png', 'c:\\\\Users\\\\Tanay Srivastava\\\\Desktop\\\\Project_1_DL\\\\Greek\\\\character22\\\\0415_18.png', 'c:\\\\Users\\\\Tanay Srivastava\\\\Desktop\\\\Project_1_DL\\\\Greek\\\\character22\\\\0415_19.png', 'c:\\\\Users\\\\Tanay Srivastava\\\\Desktop\\\\Project_1_DL\\\\Greek\\\\character22\\\\0415_20.png', 'c:\\\\Users\\\\Tanay Srivastava\\\\Desktop\\\\Project_1_DL\\\\Greek\\\\character23\\\\0416_01.png', 'c:\\\\Users\\\\Tanay Srivastava\\\\Desktop\\\\Project_1_DL\\\\Greek\\\\character23\\\\0416_02.png', 'c:\\\\Users\\\\Tanay Srivastava\\\\Desktop\\\\Project_1_DL\\\\Greek\\\\character23\\\\0416_03.png', 'c:\\\\Users\\\\Tanay Srivastava\\\\Desktop\\\\Project_1_DL\\\\Greek\\\\character23\\\\0416_04.png', 'c:\\\\Users\\\\Tanay Srivastava\\\\Desktop\\\\Project_1_DL\\\\Greek\\\\character23\\\\0416_05.png', 'c:\\\\Users\\\\Tanay Srivastava\\\\Desktop\\\\Project_1_DL\\\\Greek\\\\character23\\\\0416_06.png', 'c:\\\\Users\\\\Tanay Srivastava\\\\Desktop\\\\Project_1_DL\\\\Greek\\\\character23\\\\0416_07.png', 'c:\\\\Users\\\\Tanay Srivastava\\\\Desktop\\\\Project_1_DL\\\\Greek\\\\character23\\\\0416_08.png', 'c:\\\\Users\\\\Tanay Srivastava\\\\Desktop\\\\Project_1_DL\\\\Greek\\\\character23\\\\0416_09.png', 'c:\\\\Users\\\\Tanay Srivastava\\\\Desktop\\\\Project_1_DL\\\\Greek\\\\character23\\\\0416_10.png', 'c:\\\\Users\\\\Tanay Srivastava\\\\Desktop\\\\Project_1_DL\\\\Greek\\\\character23\\\\0416_11.png', 'c:\\\\Users\\\\Tanay Srivastava\\\\Desktop\\\\Project_1_DL\\\\Greek\\\\character23\\\\0416_12.png', 'c:\\\\Users\\\\Tanay Srivastava\\\\Desktop\\\\Project_1_DL\\\\Greek\\\\character23\\\\0416_13.png', 'c:\\\\Users\\\\Tanay Srivastava\\\\Desktop\\\\Project_1_DL\\\\Greek\\\\character23\\\\0416_14.png', 'c:\\\\Users\\\\Tanay Srivastava\\\\Desktop\\\\Project_1_DL\\\\Greek\\\\character23\\\\0416_15.png', 'c:\\\\Users\\\\Tanay Srivastava\\\\Desktop\\\\Project_1_DL\\\\Greek\\\\character23\\\\0416_16.png', 'c:\\\\Users\\\\Tanay Srivastava\\\\Desktop\\\\Project_1_DL\\\\Greek\\\\character23\\\\0416_17.png', 'c:\\\\Users\\\\Tanay Srivastava\\\\Desktop\\\\Project_1_DL\\\\Greek\\\\character23\\\\0416_18.png', 'c:\\\\Users\\\\Tanay Srivastava\\\\Desktop\\\\Project_1_DL\\\\Greek\\\\character23\\\\0416_19.png', 'c:\\\\Users\\\\Tanay Srivastava\\\\Desktop\\\\Project_1_DL\\\\Greek\\\\character23\\\\0416_20.png', 'c:\\\\Users\\\\Tanay Srivastava\\\\Desktop\\\\Project_1_DL\\\\Greek\\\\character24\\\\0417_01.png', 'c:\\\\Users\\\\Tanay Srivastava\\\\Desktop\\\\Project_1_DL\\\\Greek\\\\character24\\\\0417_02.png', 'c:\\\\Users\\\\Tanay Srivastava\\\\Desktop\\\\Project_1_DL\\\\Greek\\\\character24\\\\0417_03.png', 'c:\\\\Users\\\\Tanay Srivastava\\\\Desktop\\\\Project_1_DL\\\\Greek\\\\character24\\\\0417_04.png', 'c:\\\\Users\\\\Tanay Srivastava\\\\Desktop\\\\Project_1_DL\\\\Greek\\\\character24\\\\0417_05.png', 'c:\\\\Users\\\\Tanay Srivastava\\\\Desktop\\\\Project_1_DL\\\\Greek\\\\character24\\\\0417_06.png', 'c:\\\\Users\\\\Tanay Srivastava\\\\Desktop\\\\Project_1_DL\\\\Greek\\\\character24\\\\0417_07.png', 'c:\\\\Users\\\\Tanay Srivastava\\\\Desktop\\\\Project_1_DL\\\\Greek\\\\character24\\\\0417_08.png', 'c:\\\\Users\\\\Tanay Srivastava\\\\Desktop\\\\Project_1_DL\\\\Greek\\\\character24\\\\0417_09.png', 'c:\\\\Users\\\\Tanay Srivastava\\\\Desktop\\\\Project_1_DL\\\\Greek\\\\character24\\\\0417_10.png', 'c:\\\\Users\\\\Tanay Srivastava\\\\Desktop\\\\Project_1_DL\\\\Greek\\\\character24\\\\0417_11.png', 'c:\\\\Users\\\\Tanay Srivastava\\\\Desktop\\\\Project_1_DL\\\\Greek\\\\character24\\\\0417_12.png', 'c:\\\\Users\\\\Tanay Srivastava\\\\Desktop\\\\Project_1_DL\\\\Greek\\\\character24\\\\0417_13.png', 'c:\\\\Users\\\\Tanay Srivastava\\\\Desktop\\\\Project_1_DL\\\\Greek\\\\character24\\\\0417_14.png', 'c:\\\\Users\\\\Tanay Srivastava\\\\Desktop\\\\Project_1_DL\\\\Greek\\\\character24\\\\0417_15.png', 'c:\\\\Users\\\\Tanay Srivastava\\\\Desktop\\\\Project_1_DL\\\\Greek\\\\character24\\\\0417_16.png', 'c:\\\\Users\\\\Tanay Srivastava\\\\Desktop\\\\Project_1_DL\\\\Greek\\\\character24\\\\0417_17.png', 'c:\\\\Users\\\\Tanay Srivastava\\\\Desktop\\\\Project_1_DL\\\\Greek\\\\character24\\\\0417_18.png', 'c:\\\\Users\\\\Tanay Srivastava\\\\Desktop\\\\Project_1_DL\\\\Greek\\\\character24\\\\0417_19.png', 'c:\\\\Users\\\\Tanay Srivastava\\\\Desktop\\\\Project_1_DL\\\\Greek\\\\character24\\\\0417_20.png']\n"
     ]
    }
   ],
   "source": [
    "import os\n",
    "path = os.getcwd()\n",
    "print(path)\n",
    "\n",
    "directory_path = path  # Replace with the path to your directory\n",
    "# C:\\Users\\Tanay Srivastava\\Downloads\\archive (8).zip\\images_background\\Greek\n",
    "# Get a list of all files in the directory\n",
    "file_paths = [os.path.join(directory_path, \"Greek\")]\n",
    "# file_paths = [os.path.join(directory_path, filename) for filename in os.listdir(directory_path) if os.path.isfile(os.path.join(directory_path, filename))]\n",
    "all_files = []\n",
    "for i in file_paths:\n",
    "    for files in os.listdir(i):\n",
    "        all_files.append(os.path.join(i, files))\n",
    "# file_paths now contains the paths to all the files in the directory\n",
    "print(file_paths)\n",
    "print(all_files)\n",
    "all_images = []\n",
    "for i in all_files:\n",
    "    for image in os.listdir(i):\n",
    "      all_images.append(os.path.join(i, image))\n",
    "print(all_images)\n",
    "# all_files = []  \n",
    "\n"
   ]
  },
  {
   "cell_type": "code",
   "execution_count": 42,
   "metadata": {},
   "outputs": [],
   "source": [
    "def getSame(path_a, path_b):\n",
    "    file_path_a = path_a\n",
    "    file_path_b = path_b\n",
    "    image_a = os.path.basename(file_path_a)\n",
    "    image_b = os.path.basename(file_path_b)\n",
    "\n",
    "    if image_a[0:4]==image_b[0:4]:\n",
    "        return True\n",
    "    else:\n",
    "        return False\n",
    "\n"
   ]
  },
  {
   "cell_type": "code",
   "execution_count": 45,
   "metadata": {},
   "outputs": [
    {
     "name": "stdout",
     "output_type": "stream",
     "text": [
      "['c:\\\\Users\\\\Tanay Srivastava\\\\Desktop\\\\Project_1_DL\\\\Greek\\\\character04\\\\0397_12.png', 'c:\\\\Users\\\\Tanay Srivastava\\\\Desktop\\\\Project_1_DL\\\\Greek\\\\character08\\\\0401_02.png', 0]\n"
     ]
    }
   ],
   "source": [
    "# make pairs with vectors\n",
    "import random\n",
    "random.shuffle(all_images)\n",
    "vector_list = []\n",
    "n = len(all_images)\n",
    "final_dataset = []\n",
    "i = 0;\n",
    "while(n):\n",
    "  n=n-2;\n",
    "  selected_paths =all_images[i:i+2]\n",
    "  i = i+2;\n",
    "  #check whether the 2 files are from same class or not\n",
    "\n",
    "  a = getSame(selected_paths[0],selected_paths[1])\n",
    "  if(a):\n",
    "    selected_paths.append(1)\n",
    "  else:\n",
    "    selected_paths.append(0)\n",
    "\n",
    "  final_dataset.append(selected_paths)\n",
    "\n",
    "print(final_dataset[0])"
   ]
  },
  {
   "cell_type": "code",
   "execution_count": 2,
   "metadata": {},
   "outputs": [
    {
     "ename": "NameError",
     "evalue": "name 'siamese_network' is not defined",
     "output_type": "error",
     "traceback": [
      "\u001b[1;31m---------------------------------------------------------------------------\u001b[0m",
      "\u001b[1;31mNameError\u001b[0m                                 Traceback (most recent call last)",
      "\u001b[1;32mc:\\Users\\Tanay Srivastava\\Desktop\\Project_1_DL\\Project_1.ipynb Cell 12\u001b[0m line \u001b[0;36m3\n\u001b[0;32m      <a href='vscode-notebook-cell:/c%3A/Users/Tanay%20Srivastava/Desktop/Project_1_DL/Project_1.ipynb#X13sZmlsZQ%3D%3D?line=0'>1</a>\u001b[0m \u001b[39m#Train Siamese network with your data pairs and labels.\u001b[39;00m\n\u001b[1;32m----> <a href='vscode-notebook-cell:/c%3A/Users/Tanay%20Srivastava/Desktop/Project_1_DL/Project_1.ipynb#X13sZmlsZQ%3D%3D?line=2'>3</a>\u001b[0m siamese_network\u001b[39m.\u001b[39mfit([pairs[:, \u001b[39m0\u001b[39m], pairs[:, \u001b[39m1\u001b[39m]], y, epochs\u001b[39m=\u001b[39m\u001b[39m100\u001b[39m, batch_size\u001b[39m=\u001b[39m\u001b[39m10\u001b[39m)\n",
      "\u001b[1;31mNameError\u001b[0m: name 'siamese_network' is not defined"
     ]
    }
   ],
   "source": [
    "#Train Siamese network with your data pairs and labels.\n",
    "\n",
    "siamese_network.fit([pairs[:, 0], pairs[:, 1]], y, epochs=100, batch_size=10)\n",
    "\n"
   ]
  },
  {
   "cell_type": "code",
   "execution_count": null,
   "metadata": {},
   "outputs": [],
   "source": []
  }
 ],
 "metadata": {
  "kernelspec": {
   "display_name": "Python 3",
   "language": "python",
   "name": "python3"
  },
  "language_info": {
   "codemirror_mode": {
    "name": "ipython",
    "version": 3
   },
   "file_extension": ".py",
   "mimetype": "text/x-python",
   "name": "python",
   "nbconvert_exporter": "python",
   "pygments_lexer": "ipython3",
   "version": "3.10.4"
  }
 },
 "nbformat": 4,
 "nbformat_minor": 2
}
